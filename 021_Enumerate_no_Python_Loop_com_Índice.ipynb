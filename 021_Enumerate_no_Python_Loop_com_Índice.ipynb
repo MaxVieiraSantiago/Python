{
  "cells": [
    {
      "cell_type": "markdown",
      "metadata": {
        "id": "view-in-github",
        "colab_type": "text"
      },
      "source": [
        "<a href=\"https://colab.research.google.com/github/MaxVieiraSantiago/Python/blob/master/021_Enumerate_no_Python_Loop_com_%C3%8Dndice.ipynb\" target=\"_parent\"><img src=\"https://colab.research.google.com/assets/colab-badge.svg\" alt=\"Open In Colab\"/></a>"
      ]
    },
    {
      "cell_type": "markdown",
      "id": "3174f6e1",
      "metadata": {
        "id": "3174f6e1"
      },
      "source": [
        "### enumerate Python\n",
        "\n",
        "Obs: usamos quando queremos pegar o índice de um item ao mesmo tempo que queremos o valor do item"
      ]
    },
    {
      "cell_type": "code",
      "execution_count": 3,
      "id": "f9134961",
      "metadata": {
        "id": "f9134961"
      },
      "outputs": [],
      "source": [
        "vendedores = [\"Marcus\", \"Amanda\", \"Ale\", \"Carol\"]\n",
        "vendas = [15, 20, 10, 30]"
      ]
    },
    {
      "cell_type": "code",
      "source": [
        "for i, vendedor in enumerate( vendedores ):\n",
        "  print( 'Vendedor {}: {} - {} produtos.'.format( i, vendedor, vendas[i] ) )"
      ],
      "metadata": {
        "colab": {
          "base_uri": "https://localhost:8080/"
        },
        "id": "1ah767baXlK7",
        "outputId": "6f7b4e08-34e4-4a38-d8f7-e4b55215782b"
      },
      "id": "1ah767baXlK7",
      "execution_count": 8,
      "outputs": [
        {
          "output_type": "stream",
          "name": "stdout",
          "text": [
            "Vendedor 0: Marcus - 15 produtos.\n",
            "Vendedor 1: Amanda - 20 produtos.\n",
            "Vendedor 2: Ale - 10 produtos.\n",
            "Vendedor 3: Carol - 30 produtos.\n"
          ]
        }
      ]
    },
    {
      "cell_type": "code",
      "source": [
        "tamanho_lista = len( vendedores )\n",
        "for i in range( tamanho_lista ):\n",
        "    print( 'Vendedor {}: {} - {} produtos.'.format( i, vendedores[i], vendas[i] ) )"
      ],
      "metadata": {
        "colab": {
          "base_uri": "https://localhost:8080/"
        },
        "id": "EFuaPT14Xta-",
        "outputId": "5826591a-c72d-4cf5-9db7-585d0798c84f"
      },
      "id": "EFuaPT14Xta-",
      "execution_count": 9,
      "outputs": [
        {
          "output_type": "stream",
          "name": "stdout",
          "text": [
            "Vendedor 0: Marcus - 15 produtos.\n",
            "Vendedor 1: Amanda - 20 produtos.\n",
            "Vendedor 2: Ale - 10 produtos.\n",
            "Vendedor 3: Carol - 30 produtos.\n"
          ]
        }
      ]
    },
    {
      "cell_type": "code",
      "source": [],
      "metadata": {
        "id": "HqJ9fPKwZJVo"
      },
      "id": "HqJ9fPKwZJVo",
      "execution_count": null,
      "outputs": []
    }
  ],
  "metadata": {
    "kernelspec": {
      "display_name": "Python 3",
      "language": "python",
      "name": "python3"
    },
    "language_info": {
      "codemirror_mode": {
        "name": "ipython",
        "version": 3
      },
      "file_extension": ".py",
      "mimetype": "text/x-python",
      "name": "python",
      "nbconvert_exporter": "python",
      "pygments_lexer": "ipython3",
      "version": "3.8.8"
    },
    "colab": {
      "provenance": [],
      "include_colab_link": true
    }
  },
  "nbformat": 4,
  "nbformat_minor": 5
}