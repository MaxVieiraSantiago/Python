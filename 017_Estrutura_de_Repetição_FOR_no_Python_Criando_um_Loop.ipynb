{
  "cells": [
    {
      "cell_type": "markdown",
      "metadata": {
        "id": "view-in-github",
        "colab_type": "text"
      },
      "source": [
        "<a href=\"https://colab.research.google.com/github/MaxVieiraSantiago/Python/blob/master/017_Estrutura_de_Repeti%C3%A7%C3%A3o_FOR_no_Python_Criando_um_Loop.ipynb\" target=\"_parent\"><img src=\"https://colab.research.google.com/assets/colab-badge.svg\" alt=\"Open In Colab\"/></a>"
      ]
    },
    {
      "cell_type": "markdown",
      "id": "227de199",
      "metadata": {
        "id": "227de199"
      },
      "source": [
        "### Todo for em python é um \"for each\""
      ]
    },
    {
      "cell_type": "code",
      "execution_count": 10,
      "id": "9d0b0ac8",
      "metadata": {
        "colab": {
          "base_uri": "https://localhost:8080/"
        },
        "id": "9d0b0ac8",
        "outputId": "9e382d6f-6a4d-435e-8682-baac56d70328"
      },
      "outputs": [
        {
          "output_type": "stream",
          "name": "stdout",
          "text": [
            "['Faca', 'Garfo', 'Panela', 'Frigideira', 'Flavorstone']\n"
          ]
        }
      ],
      "source": [
        "# percorrer uma lista\n",
        "lista_produtos = [\"faca\", \"garfo\", \"panela\", \"frigideira\", \"flavorstone\"]\n",
        "\n",
        "indice = 0\n",
        "for produto in lista_produtos:\n",
        "  lista_produtos[ indice ] = produto.capitalize()  \n",
        "  indice+=1\n",
        "  \n",
        "print( lista_produtos )"
      ]
    },
    {
      "cell_type": "code",
      "execution_count": 13,
      "id": "98dd7d6a",
      "metadata": {
        "colab": {
          "base_uri": "https://localhost:8080/"
        },
        "id": "98dd7d6a",
        "outputId": "2afd86a0-db15-4bf5-98e2-b4d73be62f86"
      },
      "outputs": [
        {
          "output_type": "stream",
          "name": "stdout",
          "text": [
            "[10, 10, 200, 50, 300]\n",
            "[0.3, 0.3, 6.0, 1.5, 9.0]\n"
          ]
        }
      ],
      "source": [
        "# calcular o imposto sobre vários valores\n",
        "lista_precos = [10, 10, 200, 50, 300]\n",
        "percentual = 0.03\n",
        "\n",
        "lista_imposto = []\n",
        "\n",
        "for preco in lista_precos:\n",
        "  imposto = preco * percentual\n",
        "  lista_imposto.append( imposto )\n",
        "\n",
        "print( lista_precos )\n",
        "print( lista_imposto )\n"
      ]
    },
    {
      "cell_type": "code",
      "execution_count": 20,
      "id": "7991f1b8",
      "metadata": {
        "colab": {
          "base_uri": "https://localhost:8080/"
        },
        "id": "7991f1b8",
        "outputId": "99ed9595-28ce-4424-d03b-b6d7332489b7"
      },
      "outputs": [
        {
          "output_type": "stream",
          "name": "stdout",
          "text": [
            "faca\n",
            "garfo\n",
            "panela\n",
            "frigideira\n",
            "flavorstone\n",
            "\n",
            "\n",
            "10\n",
            "10\n",
            "200\n",
            "50\n",
            "300\n"
          ]
        }
      ],
      "source": [
        "# percorrendo um dicionário\n",
        "produtos = {\n",
        "    \"faca\": 10,\n",
        "    \"garfo\": 10,\n",
        "    \"panela\": 200,\n",
        "    \"frigideira\": 50,\n",
        "    \"flavorstone\": 300,\n",
        "}\n",
        "\n",
        "for produto in produtos:\n",
        "  print( produto )\n",
        "\n",
        "print( '\\n' )\n",
        "\n",
        "for produto in produtos:\n",
        "  print( produtos[ produto ] )"
      ]
    },
    {
      "cell_type": "markdown",
      "id": "73954574",
      "metadata": {
        "id": "73954574"
      },
      "source": [
        "### Range"
      ]
    },
    {
      "cell_type": "code",
      "execution_count": 27,
      "id": "99c18352",
      "metadata": {
        "colab": {
          "base_uri": "https://localhost:8080/"
        },
        "id": "99c18352",
        "outputId": "71ab7f5c-abc2-4988-b11f-920671054126"
      },
      "outputs": [
        {
          "output_type": "stream",
          "name": "stdout",
          "text": [
            "Max 0\n",
            "Max 2\n",
            "Max 4\n"
          ]
        }
      ],
      "source": [
        "for i in range( 0, 6, 2 ):\n",
        "  print( 'Max {}'.format( i ) )"
      ]
    },
    {
      "cell_type": "markdown",
      "id": "de1f060d",
      "metadata": {
        "id": "de1f060d"
      },
      "source": [
        "### Exemplo aplicado - análise de vendas\n",
        "\n",
        "Vendas no arquivo vendasloja.txt"
      ]
    },
    {
      "cell_type": "code",
      "execution_count": null,
      "id": "ecaeaa22",
      "metadata": {
        "id": "ecaeaa22"
      },
      "outputs": [],
      "source": [
        "with open( 'vendasloja.txt', 'r' ) as arquivo:\n",
        "    texto = arquivo.readlines()\n",
        "    \n",
        "faturamento = 0\n",
        "    \n",
        "for linha in texto:\n",
        "    try:\n",
        "        faturamento += int( linha[ linha.find( ';' ) + 1 : ] )\n",
        "    except:\n",
        "        faturamento += 0\n",
        "    \n",
        "print( 'O valor total é de {}'.format( faturamento ) )"
      ]
    }
  ],
  "metadata": {
    "kernelspec": {
      "display_name": "Python 3",
      "language": "python",
      "name": "python3"
    },
    "language_info": {
      "codemirror_mode": {
        "name": "ipython",
        "version": 3
      },
      "file_extension": ".py",
      "mimetype": "text/x-python",
      "name": "python",
      "nbconvert_exporter": "python",
      "pygments_lexer": "ipython3",
      "version": "3.8.8"
    },
    "colab": {
      "provenance": [],
      "include_colab_link": true
    }
  },
  "nbformat": 4,
  "nbformat_minor": 5
}