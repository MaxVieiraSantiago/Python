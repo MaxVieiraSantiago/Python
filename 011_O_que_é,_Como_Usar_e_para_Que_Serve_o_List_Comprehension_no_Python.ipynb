{
  "cells": [
    {
      "cell_type": "markdown",
      "metadata": {
        "id": "view-in-github",
        "colab_type": "text"
      },
      "source": [
        "<a href=\"https://colab.research.google.com/github/MaxVieiraSantiago/Python/blob/master/011_O_que_%C3%A9%2C_Como_Usar_e_para_Que_Serve_o_List_Comprehension_no_Python.ipynb\" target=\"_parent\"><img src=\"https://colab.research.google.com/assets/colab-badge.svg\" alt=\"Open In Colab\"/></a>"
      ]
    },
    {
      "cell_type": "markdown",
      "metadata": {
        "id": "-DpYMcTs8WJw"
      },
      "source": [
        "### fazendo com for\n",
        "\n",
        "- Caso 1: Dobrar o valor de um produto\n",
        "- Caso 2: Todos os produtos que custarem acima de 1.000 dolares, imposto de 50% sobre o valor total"
      ]
    },
    {
      "cell_type": "code",
      "execution_count": null,
      "metadata": {
        "id": "nJU2cJvD8WJ3",
        "outputId": "c86d9c18-ceb1-4133-8cbc-0562493d2347"
      },
      "outputs": [
        {
          "name": "stdout",
          "output_type": "stream",
          "text": [
            "[1000, 3000, 4000, 200, 50]\n",
            "[750.0, 1000.0]\n"
          ]
        }
      ],
      "source": [
        "precos = [500, 1500, 2000, 100, 25]\n",
        "\n",
        "# Caso 1\n",
        "novo_preco = []\n",
        "for preco in precos:\n",
        "    novo_preco.append(preco * 2)\n",
        "print(novo_preco)\n",
        "\n",
        "# Caso 2\n",
        "imposto = []\n",
        "for preco in precos:\n",
        "    if preco > 1000:\n",
        "        imposto.append(preco / 2)\n",
        "print(imposto)"
      ]
    },
    {
      "cell_type": "markdown",
      "metadata": {
        "id": "vs8dHd7b8WJ7"
      },
      "source": [
        "### fazendo com list comprehension"
      ]
    },
    {
      "cell_type": "code",
      "execution_count": null,
      "metadata": {
        "id": "VziPNfbL8WJ8",
        "outputId": "60f4474c-e17b-4681-fdcc-80ff31237481"
      },
      "outputs": [
        {
          "name": "stdout",
          "output_type": "stream",
          "text": [
            "[1000, 3000, 4000, 200, 50]\n",
            "[750.0, 1000.0]\n"
          ]
        }
      ],
      "source": [
        "# Caso 1\n",
        "novo_preco2 = [preco * 2 for preco in precos]\n",
        "print(novo_preco2)\n",
        "\n",
        "# Caso 2\n",
        "imposto2 = [preco / 2 for preco in precos if preco > 1000]\n",
        "print(imposto2)"
      ]
    },
    {
      "cell_type": "markdown",
      "metadata": {
        "id": "cOz9idgI8WJ-"
      },
      "source": [
        "### Qual a vantagem?\n",
        "\n",
        "- tudo em 1 linha de código\n",
        "- mais rápido e \"simples\" se você já está acostumado"
      ]
    }
  ],
  "metadata": {
    "kernelspec": {
      "display_name": "Python 3",
      "language": "python",
      "name": "python3"
    },
    "language_info": {
      "codemirror_mode": {
        "name": "ipython",
        "version": 3
      },
      "file_extension": ".py",
      "mimetype": "text/x-python",
      "name": "python",
      "nbconvert_exporter": "python",
      "pygments_lexer": "ipython3",
      "version": "3.8.5"
    },
    "colab": {
      "provenance": [],
      "include_colab_link": true
    }
  },
  "nbformat": 4,
  "nbformat_minor": 0
}