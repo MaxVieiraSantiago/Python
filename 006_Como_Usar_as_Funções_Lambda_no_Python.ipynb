{
  "nbformat": 4,
  "nbformat_minor": 0,
  "metadata": {
    "colab": {
      "provenance": [],
      "authorship_tag": "ABX9TyNej+k8zPZmXL6RMHG9ewbn",
      "include_colab_link": true
    },
    "kernelspec": {
      "name": "python3",
      "display_name": "Python 3"
    },
    "language_info": {
      "name": "python"
    }
  },
  "cells": [
    {
      "cell_type": "markdown",
      "metadata": {
        "id": "view-in-github",
        "colab_type": "text"
      },
      "source": [
        "<a href=\"https://colab.research.google.com/github/MaxVieiraSantiago/Python/blob/master/006_Como_Usar_as_Fun%C3%A7%C3%B5es_Lambda_no_Python.ipynb\" target=\"_parent\"><img src=\"https://colab.research.google.com/assets/colab-badge.svg\" alt=\"Open In Colab\"/></a>"
      ]
    },
    {
      "cell_type": "markdown",
      "source": [
        "### **Expessões Lambda - Simplificação**"
      ],
      "metadata": {
        "id": "P7kl_PQnl-Ky"
      }
    },
    {
      "cell_type": "code",
      "execution_count": 1,
      "metadata": {
        "colab": {
          "base_uri": "https://localhost:8080/"
        },
        "id": "t6Bg66RPez_D",
        "outputId": "e35c9d75-0778-49fe-d147-99f4fc1d01fa"
      },
      "outputs": [
        {
          "output_type": "stream",
          "name": "stdout",
          "text": [
            "300.0\n"
          ]
        }
      ],
      "source": [
        "preco = 1000\n",
        "\n",
        "def calcula_imposto( preco ):\n",
        "  return preco * 0.3\n",
        "\n",
        "print( calcula_imposto( preco ) )"
      ]
    },
    {
      "cell_type": "markdown",
      "source": [
        "**Lambda**"
      ],
      "metadata": {
        "id": "GrpKSXESnFvw"
      }
    },
    {
      "cell_type": "code",
      "source": [
        "calcular_imposto_lambda = lambda x: x * 0.3\n",
        "\n",
        "print( calcular_imposto_lambda( preco ) )"
      ],
      "metadata": {
        "colab": {
          "base_uri": "https://localhost:8080/"
        },
        "id": "Hv-EEoiynAZG",
        "outputId": "f37614f5-b70e-41f3-db1e-057009b20170"
      },
      "execution_count": 2,
      "outputs": [
        {
          "output_type": "stream",
          "name": "stdout",
          "text": [
            "300.0\n"
          ]
        }
      ]
    },
    {
      "cell_type": "markdown",
      "source": [
        "### **Tá, mas qual a diferença ?**"
      ],
      "metadata": {
        "id": "vjRU8CZZnhFh"
      }
    },
    {
      "cell_type": "code",
      "source": [
        "precos = [ 500, 300, 900, 540, 600, 700, 1200 ]\n",
        "\n",
        "# Também podemos passar a função calcula_imposto\n",
        "imposto = list( map( calcular_imposto_lambda, precos ) )\n",
        "imposto"
      ],
      "metadata": {
        "colab": {
          "base_uri": "https://localhost:8080/"
        },
        "id": "qTawOjFboZoe",
        "outputId": "1d979d58-a2d2-4118-cb3a-39346017989b"
      },
      "execution_count": 22,
      "outputs": [
        {
          "output_type": "execute_result",
          "data": {
            "text/plain": [
              "[150.0, 90.0, 270.0, 162.0, 180.0, 210.0, 360.0]"
            ]
          },
          "metadata": {},
          "execution_count": 22
        }
      ]
    },
    {
      "cell_type": "code",
      "source": [
        "precos = [ 500, 300, 900, 540, 600, 700, 1200 ]\n",
        "\n",
        "imposto = list( map( lambda x: x * 0.3, precos ) )\n",
        "imposto"
      ],
      "metadata": {
        "colab": {
          "base_uri": "https://localhost:8080/"
        },
        "id": "lYwUvCrRnZsg",
        "outputId": "93c54262-9d06-4c2c-95c0-161dbda9212d"
      },
      "execution_count": 16,
      "outputs": [
        {
          "output_type": "execute_result",
          "data": {
            "text/plain": [
              "[150.0, 90.0, 270.0, 162.0, 180.0, 210.0, 360.0]"
            ]
          },
          "metadata": {},
          "execution_count": 16
        }
      ]
    },
    {
      "cell_type": "code",
      "source": [],
      "metadata": {
        "id": "sXg8fL2rn3YF"
      },
      "execution_count": null,
      "outputs": []
    }
  ]
}