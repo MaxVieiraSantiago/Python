{
  "nbformat": 4,
  "nbformat_minor": 0,
  "metadata": {
    "colab": {
      "provenance": [],
      "authorship_tag": "ABX9TyMN7Lnn7s/cf8B5d2CNAw5j",
      "include_colab_link": true
    },
    "kernelspec": {
      "name": "python3",
      "display_name": "Python 3"
    },
    "language_info": {
      "name": "python"
    }
  },
  "cells": [
    {
      "cell_type": "markdown",
      "metadata": {
        "id": "view-in-github",
        "colab_type": "text"
      },
      "source": [
        "<a href=\"https://colab.research.google.com/github/MaxVieiraSantiago/Python/blob/master/004_Como_Utilizar_Strings_em_Python.ipynb\" target=\"_parent\"><img src=\"https://colab.research.google.com/assets/colab-badge.svg\" alt=\"Open In Colab\"/></a>"
      ]
    },
    {
      "cell_type": "markdown",
      "source": [
        "# **Origem**\n",
        "\n",
        "https://www.youtube.com/watch?v=x0tDDrkmeQE"
      ],
      "metadata": {
        "id": "-zV240EL-Iok"
      }
    },
    {
      "cell_type": "markdown",
      "source": [
        "## **Métodos do Python que Funcionam em String**"
      ],
      "metadata": {
        "id": "6L5li2pNmjyS"
      }
    },
    {
      "cell_type": "code",
      "execution_count": 2,
      "metadata": {
        "id": "yY99BuzI-CWD"
      },
      "outputs": [],
      "source": [
        "texto = 'max.santiago@gmail.com'"
      ]
    },
    {
      "cell_type": "code",
      "source": [
        "# Tamanho da String\n",
        "print( 'Tamanho da String = ', format( len( texto ) ) )"
      ],
      "metadata": {
        "colab": {
          "base_uri": "https://localhost:8080/"
        },
        "id": "09cb0azTZlGU",
        "outputId": "9fd7868d-3a70-4abb-9707-c45545ed854f"
      },
      "execution_count": 3,
      "outputs": [
        {
          "output_type": "stream",
          "name": "stdout",
          "text": [
            "Tamanho da String =  22\n"
          ]
        }
      ]
    },
    {
      "cell_type": "code",
      "source": [
        "# Passando pelos itens da String\n",
        "for i in texto:\n",
        "  print( i )"
      ],
      "metadata": {
        "id": "Fx0mM30pZ3QP"
      },
      "execution_count": null,
      "outputs": []
    },
    {
      "cell_type": "code",
      "source": [
        "# Encontrar um caracter um um conjutno de caracteres dentro de um texto, devolvendo a posição\n",
        "posicao = texto.find( '@' )\n",
        "print( posicao )"
      ],
      "metadata": {
        "colab": {
          "base_uri": "https://localhost:8080/"
        },
        "id": "xsvYuSaraE2f",
        "outputId": "45ef0971-a3b4-4057-a6f3-37256f925cc3"
      },
      "execution_count": 6,
      "outputs": [
        {
          "output_type": "stream",
          "name": "stdout",
          "text": [
            "12\n"
          ]
        }
      ]
    },
    {
      "cell_type": "code",
      "source": [
        "# Partes da String\n",
        "parte = texto[ 5 :  ]\n",
        "print( parte )\n",
        "\n",
        "parte = texto[ 5 : 11 ]\n",
        "print( parte )\n",
        "\n",
        "parte = texto[ : 5 ]\n",
        "print( parte )"
      ],
      "metadata": {
        "colab": {
          "base_uri": "https://localhost:8080/"
        },
        "id": "EEJmOMdGZtSs",
        "outputId": "a4124694-23da-42f2-e5aa-a2c0e7146927"
      },
      "execution_count": 9,
      "outputs": [
        {
          "output_type": "stream",
          "name": "stdout",
          "text": [
            "antiago@gmail.com\n",
            "antiag\n",
            "max.s\n"
          ]
        }
      ]
    },
    {
      "cell_type": "code",
      "source": [
        "# Obtendo o Servidor utilizando cálculos com a String\n",
        "email = 'max.santiago@gmail.com'\n",
        "\n",
        "inicio = email.find( '@' ) + 1\n",
        "\n",
        "fim    = len( email ) + email.find( '@' )\n",
        "\n",
        "# posições     -> inicial  final ( é diferente do Delphi, onde a segundo argumento é o tamanho, aqui é a posição )\n",
        "servidor = email[ inicio : fim ]\n",
        "\n",
        "# também pode ( sem informar o final )\n",
        "# servidor = email[ inicio : ]\n",
        "\n",
        "print( servidor )\n"
      ],
      "metadata": {
        "colab": {
          "base_uri": "https://localhost:8080/"
        },
        "id": "Uk28WDhmapI5",
        "outputId": "2749f419-a83d-4b8c-9ade-6e264c0fc38c"
      },
      "execution_count": 14,
      "outputs": [
        {
          "output_type": "stream",
          "name": "stdout",
          "text": [
            "gmail.com\n"
          ]
        }
      ]
    },
    {
      "cell_type": "code",
      "source": [
        "# Sinal de Mais ( + ) - Concatenar String\n",
        "usuario = 'Max.Santiago'\n",
        "servidor = 'gmail.com'\n",
        "\n",
        "email = usuario + servidor\n",
        "\n",
        "print( email )"
      ],
      "metadata": {
        "colab": {
          "base_uri": "https://localhost:8080/"
        },
        "id": "stGZ0EZdlj-c",
        "outputId": "9aed0105-282f-475e-c797-9667480c2497"
      },
      "execution_count": 16,
      "outputs": [
        {
          "output_type": "stream",
          "name": "stdout",
          "text": [
            "Max.Santiagogmail.com\n"
          ]
        }
      ]
    },
    {
      "cell_type": "markdown",
      "source": [
        "## **Métodos Específicos de String**"
      ],
      "metadata": {
        "id": "I8wwBCb7nugT"
      }
    },
    {
      "cell_type": "code",
      "source": [
        "# capitalize() -> coloca a primeira letra em Maiúscula\n",
        "\n",
        "nome = 'max santiago'\n",
        "\n",
        "nome_maiusculo = nome.capitalize()\n",
        "\n",
        "print( nome_maiusculo )"
      ],
      "metadata": {
        "colab": {
          "base_uri": "https://localhost:8080/"
        },
        "id": "IqxbvsrMbhmn",
        "outputId": "ae4155a1-3883-41a6-d5e3-3101d4584ed4"
      },
      "execution_count": 18,
      "outputs": [
        {
          "output_type": "stream",
          "name": "stdout",
          "text": [
            "Max santiago\n"
          ]
        }
      ]
    },
    {
      "cell_type": "code",
      "source": [
        "# casefold() -> transforma todas as letras para minúsculo - existe o lower() porém, o casefold() é melhor\n",
        "\n",
        "nome = 'MAX SANTIAGO'\n",
        "\n",
        "nome_minusculo = nome.casefold()\n",
        "\n",
        "print( nome_minusculo )"
      ],
      "metadata": {
        "colab": {
          "base_uri": "https://localhost:8080/"
        },
        "id": "K5yZgf2toBOk",
        "outputId": "d747aca8-4f3b-49bb-8166-3435f686e561"
      },
      "execution_count": 21,
      "outputs": [
        {
          "output_type": "stream",
          "name": "stdout",
          "text": [
            "max santiago\n"
          ]
        }
      ]
    },
    {
      "cell_type": "code",
      "source": [
        "# count() -> quantidade de vezes que um valor aparece na String ( Case Sensitive )\n",
        "\n",
        "nome = 'Max.Santiago@gmail.com'\n",
        "\n",
        "quantidade_a = nome.upper().count( 'A' )\n",
        "\n",
        "print( quantidade_a )"
      ],
      "metadata": {
        "colab": {
          "base_uri": "https://localhost:8080/"
        },
        "id": "ARkLapA3pKXe",
        "outputId": "aaa38f2b-4605-455e-c884-066899bca5c8"
      },
      "execution_count": 24,
      "outputs": [
        {
          "output_type": "stream",
          "name": "stdout",
          "text": [
            "4\n"
          ]
        }
      ]
    },
    {
      "cell_type": "code",
      "source": [
        "# startswith() -> verifica se a String começa com um valor específico e retorna True ou False ( Case Sensitive )\n",
        "\n",
        "texto = 'DNA Inovador - 2023'\n",
        "pesquisa = 'DNA I'\n",
        "\n",
        "if texto.startswith( pesquisa ):\n",
        "  print( 'O texto se INICIA com', pesquisa )\n",
        "else:\n",
        "  print( 'O texto NÃO se inicia com', pesquisa )"
      ],
      "metadata": {
        "colab": {
          "base_uri": "https://localhost:8080/"
        },
        "id": "1mEERQuOwZkV",
        "outputId": "7063eb4d-0a6c-4056-ad5b-f8ca3330a295"
      },
      "execution_count": 53,
      "outputs": [
        {
          "output_type": "stream",
          "name": "stdout",
          "text": [
            "O texto NÃO se inicia com DNA i\n"
          ]
        }
      ]
    },
    {
      "cell_type": "code",
      "source": [
        "# endswith() -> verifica se a String termina com um valor específico e retorna True ou False\n",
        "\n",
        "email = 'max.santiago@gmail.com'\n",
        "pesquisa = 'gmail.com'\n",
        "\n",
        "if email.endswith( pesquisa ):\n",
        "  print( 'Termina com ', pesquisa )\n",
        "else:\n",
        "  print( 'NÃO termina com ', pesquisa )"
      ],
      "metadata": {
        "colab": {
          "base_uri": "https://localhost:8080/"
        },
        "id": "C8Dcg-aZpyf3",
        "outputId": "6fdb6c34-5efa-4a99-d632-64af71da8eac"
      },
      "execution_count": 27,
      "outputs": [
        {
          "output_type": "stream",
          "name": "stdout",
          "text": [
            "Termina com  gmail.com\n"
          ]
        }
      ]
    },
    {
      "cell_type": "code",
      "source": [
        "# find() -> procura um texto dentro de outro texto e retorna a posição do texto encontrado\n",
        "\n",
        "texto = 'max.santiago@gmail.com'\n",
        "posicao = texto.find( '@' )\n",
        "\n",
        "print( posicao )"
      ],
      "metadata": {
        "colab": {
          "base_uri": "https://localhost:8080/"
        },
        "id": "WxOHU5NnqjmQ",
        "outputId": "da01750d-35e0-40a4-b419-5e06e6820258"
      },
      "execution_count": 28,
      "outputs": [
        {
          "output_type": "stream",
          "name": "stdout",
          "text": [
            "12\n"
          ]
        }
      ]
    },
    {
      "cell_type": "code",
      "source": [
        "# format() -> formata uma Strind de acordo com os valores passados.\n",
        "\n",
        "lucro = 335\n",
        "faturamento = 1000\n",
        "\n",
        "percentual = lucro / faturamento\n",
        "\n",
        "print( '1o. - O faturamento da loja foi de {} reais.'.format( faturamento ))\n",
        "\n",
        "print(f'2o. - O faturamento da loja foi de {faturamento:.2f} reais.')\n",
        "\n",
        "print(f'3o. - O faturamento da loja foi de {faturamento:,.2f} reais')\n",
        "\n",
        "print(f'4o. - O percentual  da loja foi de {percentual:.2%}')\n"
      ],
      "metadata": {
        "colab": {
          "base_uri": "https://localhost:8080/"
        },
        "id": "hIMwOfAjrMUW",
        "outputId": "f5410bb5-dc0e-4b0c-90f2-3d59152f050d"
      },
      "execution_count": 36,
      "outputs": [
        {
          "output_type": "stream",
          "name": "stdout",
          "text": [
            "1o. - O faturamento da loja foi de 1000 reais.\n",
            "2o. - O faturamento da loja foi de 1000.00 reais.\n",
            "3o. - O faturamento da loja foi de 1,000.00 reais\n",
            "4o. - O percentual  da loja foi de 33.50%\n"
          ]
        }
      ]
    },
    {
      "cell_type": "code",
      "source": [
        "# isalnum() -> verifica se um texto é todo feito com caracteres alfanuméricos (letras e números), letras com acentos são consideradas letras ( ç, ã, á , etc... )\n",
        "\n",
        "texto = 'João123'\n",
        "print( texto.isalnum() ) # -> True\n",
        "\n",
        "texto = 'Jo~ao123'\n",
        "print( texto.isalnum() ) # -> False"
      ],
      "metadata": {
        "colab": {
          "base_uri": "https://localhost:8080/"
        },
        "id": "wP-d_eBYr1ei",
        "outputId": "1e01f863-451c-4578-da79-69da68d07065"
      },
      "execution_count": 39,
      "outputs": [
        {
          "output_type": "stream",
          "name": "stdout",
          "text": [
            "True\n",
            "False\n"
          ]
        }
      ]
    },
    {
      "cell_type": "code",
      "source": [
        "# isalpha() -> verifica se um texto só contém letras\n",
        "\n",
        "texto = 'João123'\n",
        "print( texto.isalpha() ) # -> False\n",
        "\n",
        "texto = 'João'\n",
        "print( texto.isalpha() ) # -> True"
      ],
      "metadata": {
        "colab": {
          "base_uri": "https://localhost:8080/"
        },
        "id": "M9bw8v2qtPGT",
        "outputId": "4bd82ea3-ccab-49c5-c73a-b4d4cf1c441b"
      },
      "execution_count": 42,
      "outputs": [
        {
          "output_type": "stream",
          "name": "stdout",
          "text": [
            "False\n",
            "True\n"
          ]
        }
      ]
    },
    {
      "cell_type": "code",
      "source": [
        "# isnumeric() -> verifica se um texto só contém números\n",
        "\n",
        "texto = '1234567890'\n",
        "print( texto.isnumeric() ) # -> True\n",
        "\n",
        "texto = 'a123456789'\n",
        "print( texto.isnumeric() ) # -> False"
      ],
      "metadata": {
        "colab": {
          "base_uri": "https://localhost:8080/"
        },
        "id": "IH11H5A5ttrn",
        "outputId": "3010f84e-aaf5-4d95-c90c-4e91b9153db6"
      },
      "execution_count": 44,
      "outputs": [
        {
          "output_type": "stream",
          "name": "stdout",
          "text": [
            "True\n",
            "False\n"
          ]
        }
      ]
    },
    {
      "cell_type": "code",
      "source": [
        "# replace() -> substitui um texto por outro em uma String\n",
        "\n",
        "texto = '1,000.00'\n",
        "\n",
        "# Executa do primeiro -> ao último\n",
        "texto = texto.replace( ',', '_' ).replace( '.', ',' ).replace( '_', '.' )\n",
        "print( texto )"
      ],
      "metadata": {
        "colab": {
          "base_uri": "https://localhost:8080/"
        },
        "id": "2IURhbeUuOOG",
        "outputId": "fad1ff22-2354-40e0-a96e-ceed10ed4c89"
      },
      "execution_count": 46,
      "outputs": [
        {
          "output_type": "stream",
          "name": "stdout",
          "text": [
            "1.000,00\n"
          ]
        }
      ]
    },
    {
      "cell_type": "code",
      "source": [
        "# split() -> separa uma string de acordo com um delimitador em vários textos diferentes ( gera uma lista )\n",
        "\n",
        "texto = 'max.santiago@gmail.com'\n",
        "\n",
        "separacao = texto.split( '@' )\n",
        "for s in separacao:\n",
        "  print( s )"
      ],
      "metadata": {
        "colab": {
          "base_uri": "https://localhost:8080/"
        },
        "id": "L58wY3wiuk4C",
        "outputId": "55a1b0e9-36c3-40ea-ba23-b735802c4b38"
      },
      "execution_count": 48,
      "outputs": [
        {
          "output_type": "stream",
          "name": "stdout",
          "text": [
            "max.santiago\n",
            "gmail.com\n"
          ]
        }
      ]
    },
    {
      "cell_type": "code",
      "source": [
        "# strip() -> retira caracteres indesejados dos textos, por padrão retira espaços \"extras\", no início e no final.\n",
        "\n",
        "texto = ' max.santiago '\n",
        "texto_strip = texto.strip()\n",
        "print( texto_strip )\n",
        "\n",
        "texto = ' max.santiago '\n",
        "texto_strip = texto.strip().strip( 'o' )\n",
        "print( texto_strip )"
      ],
      "metadata": {
        "colab": {
          "base_uri": "https://localhost:8080/"
        },
        "id": "QKsXyipCwDsX",
        "outputId": "3733b6fe-9210-4485-8b73-847c242ebbe8"
      },
      "execution_count": 58,
      "outputs": [
        {
          "output_type": "stream",
          "name": "stdout",
          "text": [
            "max.santiago\n",
            "max.santiag\n"
          ]
        }
      ]
    },
    {
      "cell_type": "code",
      "source": [
        "# title() -> coloca a primeira letra de cada palavra do texto em Maiúscula\n",
        "\n",
        "nome = 'max vieira santiago'\n",
        "\n",
        "nome = nome.title()\n",
        "print( nome )"
      ],
      "metadata": {
        "colab": {
          "base_uri": "https://localhost:8080/"
        },
        "id": "Fyf9MEhjxuaj",
        "outputId": "a9ad1321-28d1-46df-a0db-ca184a2285f2"
      },
      "execution_count": 59,
      "outputs": [
        {
          "output_type": "stream",
          "name": "stdout",
          "text": [
            "Max Vieira Santiago\n"
          ]
        }
      ]
    },
    {
      "cell_type": "code",
      "source": [
        "# upper() -> coloca o texto todo em MAIÚSCULO\n",
        "\n",
        "nome = 'max vieira santiago'\n",
        "\n",
        "nome = nome.upper()\n",
        "print( nome )"
      ],
      "metadata": {
        "colab": {
          "base_uri": "https://localhost:8080/"
        },
        "id": "rDHaTX1vyhz6",
        "outputId": "e4cb228d-21a1-4509-a0ea-353ebca99a10"
      },
      "execution_count": 60,
      "outputs": [
        {
          "output_type": "stream",
          "name": "stdout",
          "text": [
            "MAX VIEIRA SANTIAGO\n"
          ]
        }
      ]
    },
    {
      "cell_type": "code",
      "source": [],
      "metadata": {
        "id": "TOjR-xHhyuEH"
      },
      "execution_count": null,
      "outputs": []
    }
  ]
}