{
  "cells": [
    {
      "cell_type": "markdown",
      "metadata": {
        "id": "view-in-github",
        "colab_type": "text"
      },
      "source": [
        "<a href=\"https://colab.research.google.com/github/MaxVieiraSantiago/Python/blob/master/023_Automa%C3%A7%C3%A3o_com_Python_Como_Enviar_E_mail_Utilizando_Python.ipynb\" target=\"_parent\"><img src=\"https://colab.research.google.com/assets/colab-badge.svg\" alt=\"Open In Colab\"/></a>"
      ]
    },
    {
      "cell_type": "code",
      "execution_count": null,
      "id": "33fb9658",
      "metadata": {
        "id": "33fb9658"
      },
      "outputs": [],
      "source": [
        "# Caso não tenha o win32com, utilize o comando abaixo no ANACONTA Prompt Powershell para instalar\n",
        "conda install -c anaconda pywin32\n",
        "\n",
        "# Se você deseja que a instalação seja feita através do PIP, abra o Prompt de Comando e use o comando abaixo:\n",
        "pip install pywin32 "
      ]
    },
    {
      "cell_type": "code",
      "execution_count": null,
      "id": "b4c6d5ee",
      "metadata": {
        "id": "b4c6d5ee"
      },
      "outputs": [],
      "source": [
        "# Para ver se o pywin32 foi corretamente instalado, utilize o comando abaixo no ANACONDA Prompt Powershell\n",
        "conda list pywin32\n",
        "\n",
        "# Para verificar se o Pywin32 foi instalado com sucesso em seu sistema, execute o comando abaixo no Prompt de Comando:\n",
        "python -m pip show pywin32 "
      ]
    },
    {
      "cell_type": "code",
      "execution_count": null,
      "id": "6140a317",
      "metadata": {
        "id": "6140a317"
      },
      "outputs": [],
      "source": [
        "import win32com.client as win32\n",
        "\n",
        "# Criar a integração com o Outlook\n",
        "outlook = win32.Dispatch('outlook.application')"
      ]
    },
    {
      "cell_type": "code",
      "execution_count": null,
      "id": "ffa968ed",
      "metadata": {
        "id": "ffa968ed"
      },
      "outputs": [],
      "source": [
        "# Criar um e-mail\n",
        "email = outlook.CreateItem(0)"
      ]
    },
    {
      "cell_type": "code",
      "execution_count": null,
      "id": "2843daa0",
      "metadata": {
        "id": "2843daa0",
        "outputId": "a64591e5-d56d-4733-ffce-615527938659"
      },
      "outputs": [
        {
          "data": {
            "text/plain": [
              "<COMObject Add>"
            ]
          },
          "execution_count": 34,
          "metadata": {},
          "output_type": "execute_result"
        }
      ],
      "source": [
        "# Configurar as informações do e-mail\n",
        "\n",
        "faturamento = 1500\n",
        "quantidade = 10\n",
        "\n",
        "email.To = 'maxvieirasantiago@gmail.com; max.santiago@arcelormittal.com.br'\n",
        "email.Subject = 'E-mail Automático do Python'\n",
        "email.HTMLBody= f'''\n",
        "<p>Olá Max, aqui é o código Python.</p>\n",
        "\n",
        "<p>O faturamento foi de R${faturamento:,.2f}</p>\n",
        "\n",
        "<p>Vendemos {quantidade:,.0f} produtos.</p>\n",
        "\n",
        "<p>Abraços,</p>\n",
        "\n",
        "<p>Max Santiago</p>\n",
        "'''\n",
        "\n",
        "# Enviar anexos\n",
        "anexo = 'C://Users/Max/Downloads/Fatura_Vivo.pdf'\n",
        "email.Attachments.Add( anexo )"
      ]
    },
    {
      "cell_type": "code",
      "execution_count": null,
      "id": "a9341689",
      "metadata": {
        "id": "a9341689",
        "outputId": "f1da31ce-9d63-4787-fe65-812aeb243ee4"
      },
      "outputs": [
        {
          "name": "stdout",
          "output_type": "stream",
          "text": [
            "E-mail enviado.\n"
          ]
        }
      ],
      "source": [
        "email.Send()\n",
        "print('E-mail enviado.')"
      ]
    },
    {
      "cell_type": "markdown",
      "id": "dbe5ceac",
      "metadata": {
        "id": "dbe5ceac"
      },
      "source": []
    }
  ],
  "metadata": {
    "kernelspec": {
      "display_name": "Python 3 (ipykernel)",
      "language": "python",
      "name": "python3"
    },
    "language_info": {
      "codemirror_mode": {
        "name": "ipython",
        "version": 3
      },
      "file_extension": ".py",
      "mimetype": "text/x-python",
      "name": "python",
      "nbconvert_exporter": "python",
      "pygments_lexer": "ipython3",
      "version": "3.9.12"
    },
    "colab": {
      "provenance": [],
      "include_colab_link": true
    }
  },
  "nbformat": 4,
  "nbformat_minor": 5
}