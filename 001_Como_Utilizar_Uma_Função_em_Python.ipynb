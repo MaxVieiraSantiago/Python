{
  "nbformat": 4,
  "nbformat_minor": 0,
  "metadata": {
    "colab": {
      "provenance": [],
      "authorship_tag": "ABX9TyPc/tl/58tQXLotYQtXp/10",
      "include_colab_link": true
    },
    "kernelspec": {
      "name": "python3",
      "display_name": "Python 3"
    },
    "language_info": {
      "name": "python"
    }
  },
  "cells": [
    {
      "cell_type": "markdown",
      "metadata": {
        "id": "view-in-github",
        "colab_type": "text"
      },
      "source": [
        "<a href=\"https://colab.research.google.com/github/MaxVieiraSantiago/Python/blob/master/001_Como_Utilizar_Uma_Fun%C3%A7%C3%A3o_em_Python.ipynb\" target=\"_parent\"><img src=\"https://colab.research.google.com/assets/colab-badge.svg\" alt=\"Open In Colab\"/></a>"
      ]
    },
    {
      "cell_type": "code",
      "source": [
        "# upper -> passa para maiúsculo\n",
        "# strip -> tira os espaços em branco no início e final da string\n",
        "def tratar_texto(texto):\n",
        "  texto = texto.upper().strip()\n",
        "  \n",
        "  return texto  "
      ],
      "metadata": {
        "id": "8OK94xH2rXDI"
      },
      "execution_count": 8,
      "outputs": []
    },
    {
      "cell_type": "code",
      "execution_count": 11,
      "metadata": {
        "id": "DU4MJ_EVoD9t"
      },
      "outputs": [],
      "source": [
        "produtos = ['ABC123', 'abd012', ' ABS111', 'AbB222']\n",
        "\n",
        "for i, produto in enumerate( produtos ):\n",
        "  produtos[i] = tratar_texto( produto )"
      ]
    },
    {
      "cell_type": "code",
      "source": [
        "print( produtos )"
      ],
      "metadata": {
        "colab": {
          "base_uri": "https://localhost:8080/"
        },
        "id": "EDEV2c9gst25",
        "outputId": "118ee0ca-61a5-41dd-df32-c1c972adaa2a"
      },
      "execution_count": 12,
      "outputs": [
        {
          "output_type": "stream",
          "name": "stdout",
          "text": [
            "['ABC123', 'ABD012', 'ABS111', 'ABB222']\n"
          ]
        }
      ]
    },
    {
      "cell_type": "code",
      "source": [],
      "metadata": {
        "id": "Ac9Ka_05suxO"
      },
      "execution_count": null,
      "outputs": []
    }
  ]
}