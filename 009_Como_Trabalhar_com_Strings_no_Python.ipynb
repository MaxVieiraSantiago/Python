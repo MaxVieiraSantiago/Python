{
  "cells": [
    {
      "cell_type": "markdown",
      "metadata": {
        "id": "view-in-github",
        "colab_type": "text"
      },
      "source": [
        "<a href=\"https://colab.research.google.com/github/MaxVieiraSantiago/Python/blob/master/009_Como_Trabalhar_com_Strings_no_Python.ipynb\" target=\"_parent\"><img src=\"https://colab.research.google.com/assets/colab-badge.svg\" alt=\"Open In Colab\"/></a>"
      ]
    },
    {
      "cell_type": "markdown",
      "metadata": {
        "id": "O61ksm6DDo_Q"
      },
      "source": [
        "## Strings no Python\n",
        "\n",
        "### 1) O que é uma String e como usá-la?"
      ]
    },
    {
      "cell_type": "code",
      "execution_count": null,
      "metadata": {
        "id": "Zq0ceEauDo_W",
        "outputId": "11f04f08-6d88-4aaa-cb05-02dd4b50dd8c"
      },
      "outputs": [
        {
          "name": "stdout",
          "output_type": "stream",
          "text": [
            "<class 'int'>\n",
            "<class 'float'>\n",
            "<class 'str'>\n"
          ]
        }
      ],
      "source": [
        "# As varíaveis podem ser de diferentes tipos.\n",
        "variavel1 = 54\n",
        "print(type(variavel1))\n",
        "variavel2 = 54.0\n",
        "print(type(variavel2))\n",
        "variavelstr = 'Olá'\n",
        "print(type(variavelstr))# Uma variável do tipo String"
      ]
    },
    {
      "cell_type": "markdown",
      "metadata": {
        "id": "DMTxKp7DDo_Z"
      },
      "source": [
        "#### Strings são valores que estão em formato de texto. Para indicarmos que se trata de uma string usaremos a aspa simples ' '."
      ]
    },
    {
      "cell_type": "markdown",
      "metadata": {
        "id": "Rybt5hELDo_a"
      },
      "source": [
        "### 2) Modificando uma string"
      ]
    },
    {
      "cell_type": "code",
      "execution_count": null,
      "metadata": {
        "id": "8D74bIUvDo_a",
        "outputId": "11245158-8542-40ca-f2d1-49d22ef7f2d3"
      },
      "outputs": [
        {
          "name": "stdout",
          "output_type": "stream",
          "text": [
            "danieldaniel\n"
          ]
        }
      ],
      "source": [
        "\n",
        "nome = 'daniel'\n",
        "nomeduplicado= nome*2\n",
        "print(nomeduplicado)"
      ]
    },
    {
      "cell_type": "code",
      "execution_count": null,
      "metadata": {
        "id": "dRbVO-nxDo_b",
        "outputId": "b7377ada-a601-438b-aa53-b566a0f5c234"
      },
      "outputs": [
        {
          "name": "stdout",
          "output_type": "stream",
          "text": [
            "Daniel\n"
          ]
        }
      ],
      "source": [
        "nome = 'daniel'\n",
        "print(nome.capitalize())"
      ]
    },
    {
      "cell_type": "code",
      "execution_count": null,
      "metadata": {
        "id": "mEcobo6lDo_c",
        "outputId": "27c5f3ea-2624-43c3-cf3f-237fefee0b6c"
      },
      "outputs": [
        {
          "name": "stdout",
          "output_type": "stream",
          "text": [
            "daniel\n"
          ]
        }
      ],
      "source": [
        "print(nome)"
      ]
    },
    {
      "cell_type": "markdown",
      "metadata": {
        "id": "ebKiyOKADo_c"
      },
      "source": [
        "### Perceba que a variável texto não foi modificada. E sim foi criada uma cópia deste valor.  Por isso, vamos armazenar essa informação em uma outra variável."
      ]
    },
    {
      "cell_type": "code",
      "execution_count": null,
      "metadata": {
        "id": "6t7qNgp6Do_d",
        "outputId": "403424d4-1e43-4fda-a695-78411dd9fc22"
      },
      "outputs": [
        {
          "name": "stdout",
          "output_type": "stream",
          "text": [
            "Daniel\n"
          ]
        }
      ],
      "source": [
        "nome_primeira_maiuscula = nome.capitalize()\n",
        "print(nome_primeira_maiuscula)"
      ]
    },
    {
      "cell_type": "code",
      "execution_count": null,
      "metadata": {
        "id": "xng0DhfRDo_e",
        "outputId": "d4cc530f-83db-4627-b21c-50b8f1aeba60"
      },
      "outputs": [
        {
          "name": "stdout",
          "output_type": "stream",
          "text": [
            "DANIEL\n"
          ]
        }
      ],
      "source": [
        "nome_maiuscula = nome.upper()\n",
        "print(nome_maiuscula)"
      ]
    },
    {
      "cell_type": "code",
      "execution_count": null,
      "metadata": {
        "id": "jlBbcWD9Do_e",
        "outputId": "af0cf5af-dc99-45a3-fca7-d3d384aed878"
      },
      "outputs": [
        {
          "name": "stdout",
          "output_type": "stream",
          "text": [
            "daniel\n"
          ]
        }
      ],
      "source": [
        "nome_minuscula=nome.casefold()\n",
        "print(nome_minuscula)"
      ]
    },
    {
      "cell_type": "code",
      "execution_count": null,
      "metadata": {
        "id": "AVXuqii-Do_f",
        "outputId": "7700a0cc-f38b-410f-94d3-ff85378c21e8"
      },
      "outputs": [
        {
          "name": "stdout",
          "output_type": "stream",
          "text": [
            "dDniel\n"
          ]
        }
      ],
      "source": [
        "nome_substituido = nome.replace('a','D')\n",
        "print(nome_substituido)"
      ]
    },
    {
      "cell_type": "code",
      "execution_count": null,
      "metadata": {
        "id": "E1XcpGJ9Do_g",
        "outputId": "c251bf51-f675-49ff-debe-2f69cf139cd2"
      },
      "outputs": [
        {
          "name": "stdout",
          "output_type": "stream",
          "text": [
            "DXniel CXndiotto\n",
            "DXniel Candiotto\n"
          ]
        }
      ],
      "source": [
        "nome = 'Daniel Candiotto'\n",
        "print(nome.replace('a','X'))# Substitui todas as letras 'a' por 'X'\n",
        "print(nome.replace('a','X',1)) # Substitui apenas 1 ocorrência da letra 'a' por 'X'"
      ]
    },
    {
      "cell_type": "code",
      "execution_count": null,
      "metadata": {
        "id": "KywOAsa6Do_h",
        "outputId": "0f5bac69-1a91-45b3-89c5-d1db5ed2a260"
      },
      "outputs": [
        {
          "name": "stdout",
          "output_type": "stream",
          "text": [
            "DanielCandiotto\n"
          ]
        }
      ],
      "source": [
        "nome = 'Daniel'\n",
        "sobrenome = 'Candiotto'\n",
        "nome_completo = nome + sobrenome\n",
        "print(nome_completo)\n"
      ]
    },
    {
      "cell_type": "markdown",
      "metadata": {
        "id": "fzy4dbETDo_i"
      },
      "source": [
        "### 3) Alguns métodos nos permitem entender melhor o conteúdo das strings"
      ]
    },
    {
      "cell_type": "code",
      "execution_count": null,
      "metadata": {
        "id": "cEt4XJSFDo_i",
        "outputId": "cfe5365c-243b-43d4-cfb6-c8ea344301b4"
      },
      "outputs": [
        {
          "name": "stdout",
          "output_type": "stream",
          "text": [
            "True\n",
            "False\n",
            "True\n"
          ]
        }
      ],
      "source": [
        "cpf = '11122233344'\n",
        "print(cpf.isnumeric())\n",
        "print(cpf.isalpha())\n",
        "print(cpf.isalnum())"
      ]
    },
    {
      "cell_type": "code",
      "execution_count": null,
      "metadata": {
        "id": "7CsRw8JQDo_j",
        "outputId": "e45c1335-efb4-4a4c-ec9f-8e1626edcc9c"
      },
      "outputs": [
        {
          "name": "stdout",
          "output_type": "stream",
          "text": [
            "True\n",
            "False\n"
          ]
        }
      ],
      "source": [
        "nome = 'DANIEL'\n",
        "print(nome.isupper())\n",
        "print(nome.islower())"
      ]
    },
    {
      "cell_type": "code",
      "execution_count": null,
      "metadata": {
        "id": "xkJ7UgDnDo_j",
        "outputId": "4bd1596a-77e0-4ee5-ee26-b4e8316c899b"
      },
      "outputs": [
        {
          "name": "stdout",
          "output_type": "stream",
          "text": [
            "7\n",
            "-1\n"
          ]
        }
      ],
      "source": [
        "#buscar uma informação na string:\n",
        "\n",
        "nome = 'Daniel Candiotto'\n",
        "print(nome.find('C'))# Resultado esperado 7\n",
        "print(nome.find('x'))# Resultado esperado -1. -> -1 indica que o valor não foi encontrado."
      ]
    },
    {
      "cell_type": "markdown",
      "metadata": {
        "id": "A5EnT3cxDo_k"
      },
      "source": [
        "### 4) Toda string é uma lista"
      ]
    },
    {
      "cell_type": "code",
      "execution_count": null,
      "metadata": {
        "id": "RT22UqwSDo_l",
        "outputId": "44487ec4-4aa0-4ed0-9dea-0c3e0d56b9b9"
      },
      "outputs": [
        {
          "name": "stdout",
          "output_type": "stream",
          "text": [
            "H\n",
            "a\n",
            "s\n",
            "h\n",
            "t\n",
            "a\n",
            "g\n",
            " \n",
            "T\n",
            "r\n",
            "e\n",
            "i\n",
            "n\n",
            "a\n",
            "m\n",
            "e\n",
            "n\n",
            "t\n",
            "o\n",
            "s\n"
          ]
        }
      ],
      "source": [
        "nome = \"Hashtag Treinamentos\"\n",
        "print(nome[0])\n",
        "print(nome[1])\n",
        "print(nome[2])\n",
        "print(nome[3])\n",
        "print(nome[4])\n",
        "print(nome[5])\n",
        "print(nome[6])\n",
        "print(nome[7])# Perceba que a posição 7, que corresponde a um espaço, também é considerada\n",
        "print(nome[8])\n",
        "print(nome[9])\n",
        "print(nome[10])\n",
        "print(nome[11])\n",
        "print(nome[12])\n",
        "print(nome[13])\n",
        "print(nome[14])\n",
        "print(nome[15])\n",
        "print(nome[16])\n",
        "print(nome[17])\n",
        "print(nome[18])\n",
        "print(nome[19])"
      ]
    },
    {
      "cell_type": "code",
      "execution_count": null,
      "metadata": {
        "id": "oN9PGgziDo_l",
        "outputId": "bae1148f-93e8-4a02-be33-0829b1bb1448"
      },
      "outputs": [
        {
          "name": "stdout",
          "output_type": "stream",
          "text": [
            "Hash\n"
          ]
        }
      ],
      "source": [
        "#Pegando apenas os 4 primeiros caracteres\n",
        "print(nome[0:4])"
      ]
    },
    {
      "cell_type": "code",
      "execution_count": null,
      "metadata": {
        "id": "rrP_QWYfDo_m",
        "outputId": "6be2bc2f-2492-4ff7-c61d-1bd371c88987"
      },
      "outputs": [
        {
          "name": "stdout",
          "output_type": "stream",
          "text": [
            "H\n",
            "a\n",
            "s\n",
            "h\n",
            "t\n",
            "a\n",
            "g\n",
            " \n",
            "T\n",
            "r\n",
            "e\n",
            "i\n",
            "n\n",
            "a\n",
            "m\n",
            "e\n",
            "n\n",
            "t\n",
            "o\n",
            "s\n"
          ]
        }
      ],
      "source": [
        "# Como se tratam de listas, podemos por exemplo usá-las em for loops\n",
        "\n",
        "for letra in nome:\n",
        "    print(letra)\n"
      ]
    },
    {
      "cell_type": "code",
      "execution_count": null,
      "metadata": {
        "id": "yXXxHHDUDo_n",
        "outputId": "17e4dbcf-a1a7-42ff-97b7-91bee2b3b2b0"
      },
      "outputs": [
        {
          "name": "stdout",
          "output_type": "stream",
          "text": [
            "['Hashtag', 'Treinamentos']\n"
          ]
        }
      ],
      "source": [
        "nome_dividida = nome.split()\n",
        "print(nome_dividida)"
      ]
    },
    {
      "cell_type": "code",
      "execution_count": null,
      "metadata": {
        "id": "fF1e7WovDo_n",
        "outputId": "dd31b876-dd98-4ada-e3b2-d5a10ab30624"
      },
      "outputs": [
        {
          "name": "stdout",
          "output_type": "stream",
          "text": [
            "daniel@email.com\n",
            "joao@email.com\n",
            "candiotto@email.com\n",
            "marcus@email.com\n",
            "diego@email.com\n",
            "paulo@email.com\n",
            "alon@email.com\n",
            "minhamae@email.com\n",
            "alguem@email.com\n",
            "ninguem@email.com\n",
            "fulano@email.com\n",
            "beltrano@email.com\n"
          ]
        }
      ],
      "source": [
        "import io\n",
        "\n",
        "with io.open(\"texto.txt\",\"r\",encoding='utf-8') as t:\n",
        "    texto = t.read()\n",
        "\n",
        "print(texto)"
      ]
    },
    {
      "cell_type": "code",
      "execution_count": null,
      "metadata": {
        "id": "gSor0kcDDo_o",
        "outputId": "3b2ded3b-4084-4abc-ea42-fe91d3cff343"
      },
      "outputs": [
        {
          "data": {
            "text/plain": [
              "str"
            ]
          },
          "execution_count": 19,
          "metadata": {},
          "output_type": "execute_result"
        }
      ],
      "source": [
        "type(texto)"
      ]
    },
    {
      "cell_type": "code",
      "execution_count": null,
      "metadata": {
        "id": "LhwWQ5XaDo_o",
        "outputId": "5d838980-d462-4845-cf78-a74fd8cbcbac"
      },
      "outputs": [
        {
          "name": "stdout",
          "output_type": "stream",
          "text": [
            "['daniel@email.com\\n', 'joao@email.com\\n', 'candiotto@email.com\\n', 'marcus@email.com\\n', 'diego@email.com\\n', 'paulo@email.com\\n', 'alon@email.com\\n', 'minhamae@email.com\\n', 'alguem@email.com\\n', 'ninguem@email.com\\n', 'fulano@email.com\\n', 'beltrano@email.com']\n"
          ]
        }
      ],
      "source": [
        "with io.open(\"texto.txt\",\"r\",encoding='utf-8') as t:\n",
        "    linhas = t.readlines()\n",
        "    print(linhas)"
      ]
    },
    {
      "cell_type": "code",
      "execution_count": null,
      "metadata": {
        "id": "I1NRmRzIDo_p",
        "outputId": "424a956a-d5ae-41e3-df65-1c1231c19d0e"
      },
      "outputs": [
        {
          "data": {
            "text/plain": [
              "list"
            ]
          },
          "execution_count": 21,
          "metadata": {},
          "output_type": "execute_result"
        }
      ],
      "source": [
        "type(linhas)"
      ]
    },
    {
      "cell_type": "code",
      "execution_count": null,
      "metadata": {
        "id": "5yKKg8seDo_p",
        "outputId": "68e9b615-ac9f-43c9-e85e-6c7a6b1dc5e7"
      },
      "outputs": [
        {
          "name": "stdout",
          "output_type": "stream",
          "text": [
            "['daniel@email.com', 'joao@email.com', 'candiotto@email.com', 'marcus@email.com', 'diego@email.com', 'paulo@email.com', 'alon@email.com', 'minhamae@email.com', 'alguem@email.com', 'ninguem@email.com', 'fulano@email.com', 'beltrano@email.com']\n"
          ]
        }
      ],
      "source": [
        "linhas2 = texto.split('\\n')\n",
        "print(linhas2)"
      ]
    },
    {
      "cell_type": "code",
      "execution_count": null,
      "metadata": {
        "id": "Zneb1wBLDo_q",
        "outputId": "e0628cf0-47aa-4540-974d-28ba1b28f7d5"
      },
      "outputs": [
        {
          "name": "stdout",
          "output_type": "stream",
          "text": [
            "fulano@email.com\n"
          ]
        }
      ],
      "source": [
        "print(linhas2[10])"
      ]
    },
    {
      "cell_type": "code",
      "execution_count": null,
      "metadata": {
        "id": "M2-leDPBDo_r",
        "outputId": "48ac01a5-e6df-4b06-c38b-dbac69a6ff95"
      },
      "outputs": [
        {
          "name": "stdout",
          "output_type": "stream",
          "text": [
            "daniel@email.com\n",
            "joao@email.com\n",
            "candiotto@email.com\n",
            "marcus@email.com\n",
            "diego@email.com\n",
            "paulo@email.com\n",
            "alon@email.com\n",
            "minhamae@email.com\n",
            "alguem@email.com\n",
            "ninguem@email.com\n",
            "fulano@email.com\n",
            "beltrano@email.com\n"
          ]
        }
      ],
      "source": [
        "for linha in linhas2:\n",
        "    print(linha)"
      ]
    },
    {
      "cell_type": "markdown",
      "metadata": {
        "id": "eE-_3q89Do_r"
      },
      "source": [
        "### 5) .FORMAT"
      ]
    },
    {
      "cell_type": "code",
      "execution_count": null,
      "metadata": {
        "id": "trySmW1xDo_r",
        "outputId": "44d91634-7592-4f66-c1d3-cf71f6afeea9"
      },
      "outputs": [
        {
          "name": "stdout",
          "output_type": "stream",
          "text": [
            "<class 'int'>\n",
            "<class 'int'>\n"
          ]
        }
      ],
      "source": [
        "nota1 = 4\n",
        "nota2 = 10\n",
        "media= (nota1 + nota2)/2\n",
        "print(type(nota1))\n",
        "print(type(nota2))"
      ]
    },
    {
      "cell_type": "code",
      "execution_count": null,
      "metadata": {
        "id": "IVvvADhuDo_s",
        "outputId": "701236f1-8b2b-4c31-a1a7-d941a8dd2e8c"
      },
      "outputs": [
        {
          "name": "stdout",
          "output_type": "stream",
          "text": [
            "O resultado da nota1 =  4 O resultado da nota2 =  10 logo, a média é de : 7.0\n"
          ]
        }
      ],
      "source": [
        "print('O resultado da nota1 = ', nota1, 'O resultado da nota2 = ', nota2, 'logo, a média é de :', media)"
      ]
    },
    {
      "cell_type": "code",
      "execution_count": null,
      "metadata": {
        "id": "GdQjs0fiDo_t",
        "outputId": "49e594aa-10ec-47c3-ed87-c2865b3142c7"
      },
      "outputs": [
        {
          "name": "stdout",
          "output_type": "stream",
          "text": [
            "O restuldado da nota1=4.O resultado da nota2=10.Logo, o resultado da média é de:7.0\n"
          ]
        }
      ],
      "source": [
        "print(f'O restuldado da nota1={nota1}.O resultado da nota2={nota2}.Logo, o resultado da média é de:{media}')"
      ]
    },
    {
      "cell_type": "code",
      "execution_count": null,
      "metadata": {
        "id": "DvWD-QgkDo_t",
        "outputId": "3963ae31-a4aa-47aa-de93-0978abaf209b"
      },
      "outputs": [
        {
          "name": "stdout",
          "output_type": "stream",
          "text": [
            "O restuldado da nota1=4.O resultado da nota2=10.Logo, o resultado da média é de:7.0\n"
          ]
        }
      ],
      "source": [
        "print('O restuldado da nota1={}.O resultado da nota2={}.Logo, o resultado da média é de:{}'.format(nota1,nota2,media))"
      ]
    }
  ],
  "metadata": {
    "kernelspec": {
      "display_name": "Python 3",
      "language": "python",
      "name": "python3"
    },
    "language_info": {
      "codemirror_mode": {
        "name": "ipython",
        "version": 3
      },
      "file_extension": ".py",
      "mimetype": "text/x-python",
      "name": "python",
      "nbconvert_exporter": "python",
      "pygments_lexer": "ipython3",
      "version": "3.8.3"
    },
    "colab": {
      "provenance": [],
      "include_colab_link": true
    }
  },
  "nbformat": 4,
  "nbformat_minor": 0
}