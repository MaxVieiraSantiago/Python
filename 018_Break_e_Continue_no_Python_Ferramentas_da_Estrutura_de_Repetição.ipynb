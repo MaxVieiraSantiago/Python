{
  "cells": [
    {
      "cell_type": "markdown",
      "metadata": {
        "id": "view-in-github",
        "colab_type": "text"
      },
      "source": [
        "<a href=\"https://colab.research.google.com/github/MaxVieiraSantiago/Python/blob/master/018_Break_e_Continue_no_Python_Ferramentas_da_Estrutura_de_Repeti%C3%A7%C3%A3o.ipynb\" target=\"_parent\"><img src=\"https://colab.research.google.com/assets/colab-badge.svg\" alt=\"Open In Colab\"/></a>"
      ]
    },
    {
      "cell_type": "code",
      "execution_count": null,
      "id": "d5b8a060",
      "metadata": {
        "id": "d5b8a060"
      },
      "outputs": [],
      "source": [
        "import pandas as pd\n",
        "\n",
        "tabela = pd.read_excel(\"vendedores.xlsx\")\n",
        "display(tabela)"
      ]
    },
    {
      "cell_type": "markdown",
      "id": "115585d7",
      "metadata": {
        "id": "115585d7"
      },
      "source": [
        "### break\n",
        "\n",
        "interrompe um loop e encerra ele\n",
        "\n",
        "Ex: Se os vendedores baterem a meta de 30.000, todos ganham bônus"
      ]
    },
    {
      "cell_type": "code",
      "execution_count": 1,
      "id": "0528bfbf",
      "metadata": {
        "colab": {
          "base_uri": "https://localhost:8080/",
          "height": 235
        },
        "id": "0528bfbf",
        "outputId": "28c85846-1402-44e3-e1c9-50cb5d8fb5c3"
      },
      "outputs": [
        {
          "output_type": "error",
          "ename": "NameError",
          "evalue": "ignored",
          "traceback": [
            "\u001b[0;31m---------------------------------------------------------------------------\u001b[0m",
            "\u001b[0;31mNameError\u001b[0m                                 Traceback (most recent call last)",
            "\u001b[0;32m<ipython-input-1-e716fc437271>\u001b[0m in \u001b[0;36m<cell line: 2>\u001b[0;34m()\u001b[0m\n\u001b[1;32m      1\u001b[0m \u001b[0mfat\u001b[0m \u001b[0;34m=\u001b[0m \u001b[0;36m0\u001b[0m\u001b[0;34m\u001b[0m\u001b[0;34m\u001b[0m\u001b[0m\n\u001b[0;32m----> 2\u001b[0;31m \u001b[0;32mfor\u001b[0m \u001b[0mvenda\u001b[0m \u001b[0;32min\u001b[0m \u001b[0mtabela\u001b[0m\u001b[0;34m[\u001b[0m\u001b[0;34m'Vendas'\u001b[0m\u001b[0;34m]\u001b[0m\u001b[0;34m:\u001b[0m\u001b[0;34m\u001b[0m\u001b[0;34m\u001b[0m\u001b[0m\n\u001b[0m\u001b[1;32m      3\u001b[0m     \u001b[0mfat\u001b[0m \u001b[0;34m=\u001b[0m \u001b[0mfat\u001b[0m \u001b[0;34m+\u001b[0m \u001b[0mvenda\u001b[0m\u001b[0;34m\u001b[0m\u001b[0;34m\u001b[0m\u001b[0m\n\u001b[1;32m      4\u001b[0m     \u001b[0mprint\u001b[0m\u001b[0;34m(\u001b[0m\u001b[0;36m1\u001b[0m\u001b[0;34m)\u001b[0m\u001b[0;34m\u001b[0m\u001b[0;34m\u001b[0m\u001b[0m\n\u001b[1;32m      5\u001b[0m     \u001b[0;32mif\u001b[0m \u001b[0mfat\u001b[0m \u001b[0;34m>\u001b[0m \u001b[0;36m30000\u001b[0m\u001b[0;34m:\u001b[0m\u001b[0;34m\u001b[0m\u001b[0;34m\u001b[0m\u001b[0m\n",
            "\u001b[0;31mNameError\u001b[0m: name 'tabela' is not defined"
          ]
        }
      ],
      "source": [
        "fat = 0\n",
        "for venda in tabela['Vendas']:\n",
        "    fat = fat + venda\n",
        "    print(1)\n",
        "    if fat > 30000:\n",
        "        print(\"Batemos a meta \" + str( fat ))\n",
        "        break"
      ]
    },
    {
      "cell_type": "markdown",
      "id": "43ed5acc",
      "metadata": {
        "id": "43ed5acc"
      },
      "source": [
        "### continue\n",
        "\n",
        "interrompe um loop e vai para a próxima iteração (próxima execução do loop)]\n",
        "\n",
        "Ex: Imposto de 10% sobre todas as vendas<br>\n",
        "Ex2: Porto Alegre aprovou isenção do imposto"
      ]
    },
    {
      "cell_type": "code",
      "execution_count": null,
      "id": "97b5a1eb",
      "metadata": {
        "id": "97b5a1eb",
        "outputId": "66af51a0-af00-4e83-d783-7f3f09c44af0"
      },
      "outputs": [
        {
          "data": {
            "text/html": [
              "<div>\n",
              "<style scoped>\n",
              "    .dataframe tbody tr th:only-of-type {\n",
              "        vertical-align: middle;\n",
              "    }\n",
              "\n",
              "    .dataframe tbody tr th {\n",
              "        vertical-align: top;\n",
              "    }\n",
              "\n",
              "    .dataframe thead th {\n",
              "        text-align: right;\n",
              "    }\n",
              "</style>\n",
              "<table border=\"1\" class=\"dataframe\">\n",
              "  <thead>\n",
              "    <tr style=\"text-align: right;\">\n",
              "      <th></th>\n",
              "      <th>Vendedor</th>\n",
              "      <th>Vendas</th>\n",
              "      <th>Loja</th>\n",
              "      <th>Imposto</th>\n",
              "    </tr>\n",
              "  </thead>\n",
              "  <tbody>\n",
              "    <tr>\n",
              "      <th>0</th>\n",
              "      <td>Lira</td>\n",
              "      <td>3680</td>\n",
              "      <td>Rio</td>\n",
              "      <td>368.0</td>\n",
              "    </tr>\n",
              "    <tr>\n",
              "      <th>1</th>\n",
              "      <td>Julia</td>\n",
              "      <td>5301</td>\n",
              "      <td>Rio</td>\n",
              "      <td>530.1</td>\n",
              "    </tr>\n",
              "    <tr>\n",
              "      <th>2</th>\n",
              "      <td>Amanda</td>\n",
              "      <td>7378</td>\n",
              "      <td>Porto Alegre</td>\n",
              "      <td>NaN</td>\n",
              "    </tr>\n",
              "    <tr>\n",
              "      <th>3</th>\n",
              "      <td>Alessandra</td>\n",
              "      <td>6143</td>\n",
              "      <td>SP</td>\n",
              "      <td>614.3</td>\n",
              "    </tr>\n",
              "    <tr>\n",
              "      <th>4</th>\n",
              "      <td>Camila</td>\n",
              "      <td>4486</td>\n",
              "      <td>Rio</td>\n",
              "      <td>448.6</td>\n",
              "    </tr>\n",
              "    <tr>\n",
              "      <th>5</th>\n",
              "      <td>Marcus</td>\n",
              "      <td>6439</td>\n",
              "      <td>SP</td>\n",
              "      <td>643.9</td>\n",
              "    </tr>\n",
              "    <tr>\n",
              "      <th>6</th>\n",
              "      <td>Alon</td>\n",
              "      <td>5926</td>\n",
              "      <td>Rio</td>\n",
              "      <td>592.6</td>\n",
              "    </tr>\n",
              "    <tr>\n",
              "      <th>7</th>\n",
              "      <td>Candiotto</td>\n",
              "      <td>7176</td>\n",
              "      <td>SP</td>\n",
              "      <td>717.6</td>\n",
              "    </tr>\n",
              "    <tr>\n",
              "      <th>8</th>\n",
              "      <td>Pedro</td>\n",
              "      <td>1494</td>\n",
              "      <td>SP</td>\n",
              "      <td>149.4</td>\n",
              "    </tr>\n",
              "  </tbody>\n",
              "</table>\n",
              "</div>"
            ],
            "text/plain": [
              "     Vendedor  Vendas          Loja  Imposto\n",
              "0        Lira    3680           Rio    368.0\n",
              "1       Julia    5301           Rio    530.1\n",
              "2      Amanda    7378  Porto Alegre      NaN\n",
              "3  Alessandra    6143            SP    614.3\n",
              "4      Camila    4486           Rio    448.6\n",
              "5      Marcus    6439            SP    643.9\n",
              "6        Alon    5926           Rio    592.6\n",
              "7   Candiotto    7176            SP    717.6\n",
              "8       Pedro    1494            SP    149.4"
            ]
          },
          "metadata": {},
          "output_type": "display_data"
        }
      ],
      "source": [
        "for i, venda in enumerate(tabela['Vendas']):\n",
        "    cidade = tabela.loc[i, \"Loja\"]\n",
        "    if cidade == \"Porto Alegre\":\n",
        "        continue\n",
        "    imposto = 0.1\n",
        "    valor_imposto = imposto * venda\n",
        "    tabela.loc[i, \"Imposto\"] = valor_imposto\n",
        "\n",
        "display(tabela)"
      ]
    },
    {
      "cell_type": "code",
      "execution_count": null,
      "id": "59346e04",
      "metadata": {
        "id": "59346e04"
      },
      "outputs": [],
      "source": []
    }
  ],
  "metadata": {
    "kernelspec": {
      "display_name": "Python 3",
      "language": "python",
      "name": "python3"
    },
    "language_info": {
      "codemirror_mode": {
        "name": "ipython",
        "version": 3
      },
      "file_extension": ".py",
      "mimetype": "text/x-python",
      "name": "python",
      "nbconvert_exporter": "python",
      "pygments_lexer": "ipython3",
      "version": "3.8.8"
    },
    "colab": {
      "provenance": [],
      "include_colab_link": true
    }
  },
  "nbformat": 4,
  "nbformat_minor": 5
}