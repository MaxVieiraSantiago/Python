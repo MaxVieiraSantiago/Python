{
  "cells": [
    {
      "cell_type": "markdown",
      "metadata": {
        "id": "view-in-github",
        "colab_type": "text"
      },
      "source": [
        "<a href=\"https://colab.research.google.com/github/MaxVieiraSantiago/Python/blob/master/016_Arquivos_de_Texto_com_Python.ipynb\" target=\"_parent\"><img src=\"https://colab.research.google.com/assets/colab-badge.svg\" alt=\"Open In Colab\"/></a>"
      ]
    },
    {
      "cell_type": "markdown",
      "id": "441899aa",
      "metadata": {
        "id": "441899aa"
      },
      "source": [
        "# Python e Arquivos de texto (.txt)\n",
        "\n",
        "- Use sempre o método With"
      ]
    },
    {
      "cell_type": "markdown",
      "id": "2d20f181",
      "metadata": {
        "id": "2d20f181"
      },
      "source": [
        "### Formas de abrir um arquivo de texto"
      ]
    },
    {
      "cell_type": "markdown",
      "id": "b1f4e1e6",
      "metadata": {
        "id": "b1f4e1e6"
      },
      "source": [
        "- \"r\" -> read -> ler"
      ]
    },
    {
      "cell_type": "code",
      "execution_count": null,
      "id": "53008492",
      "metadata": {
        "id": "53008492",
        "outputId": "177774b0-e8b1-471c-d5e2-020e7caefd76"
      },
      "outputs": [
        {
          "name": "stdout",
          "output_type": "stream",
          "text": [
            "pythonimpressionador@gmail.com\n",
            "123456\n",
            "O faturamento desse mês foi de: R$15.000\n",
            "\n"
          ]
        }
      ],
      "source": [
        "# read -> para arquivos simples (ex: senhas, tokens, informações únicas)\n",
        "with open(\"email.txt\", \"r\") as arquivo:\n",
        "    email = arquivo.read()\n",
        "print(email)\n",
        "\n",
        "with open(\"senha.txt\", \"r\") as arquivo:\n",
        "    senha = arquivo.read()\n",
        "print(senha)\n",
        "\n",
        "# read lines -> para arquivos maiores\n",
        "with open(\"mensagem.txt\", \"r\", encoding=\"utf-8\") as arquivo:\n",
        "    texto = arquivo.readlines()\n",
        "\n",
        "for frase in texto:\n",
        "    if \"faturamento\" in frase:\n",
        "        print(frase)"
      ]
    },
    {
      "cell_type": "markdown",
      "id": "53f75e99",
      "metadata": {
        "id": "53f75e99"
      },
      "source": [
        "- \"w\" -> write -> escrever"
      ]
    },
    {
      "cell_type": "code",
      "execution_count": null,
      "id": "0bf26c38",
      "metadata": {
        "id": "0bf26c38"
      },
      "outputs": [],
      "source": [
        "# substitui por completo o texto que está escrito\n",
        "with open(\"email.txt\", \"w\") as arquivo:\n",
        "    arquivo.write(\"pythonimpressionador2@gmail.com\")"
      ]
    },
    {
      "cell_type": "markdown",
      "id": "14fcf35d",
      "metadata": {
        "id": "14fcf35d"
      },
      "source": [
        "- \"a\" -> append -> adicionar"
      ]
    },
    {
      "cell_type": "code",
      "execution_count": null,
      "id": "1e6d2b3f",
      "metadata": {
        "id": "1e6d2b3f"
      },
      "outputs": [],
      "source": [
        "# adiciona uma informação ao texto original\n",
        "with open(\"email.txt\", \"a\") as arquivo:\n",
        "    arquivo.write(\"\\npythonimpressionador2@gmail.com\")"
      ]
    }
  ],
  "metadata": {
    "kernelspec": {
      "display_name": "Python 3",
      "language": "python",
      "name": "python3"
    },
    "language_info": {
      "codemirror_mode": {
        "name": "ipython",
        "version": 3
      },
      "file_extension": ".py",
      "mimetype": "text/x-python",
      "name": "python",
      "nbconvert_exporter": "python",
      "pygments_lexer": "ipython3",
      "version": "3.8.8"
    },
    "colab": {
      "provenance": [],
      "include_colab_link": true
    }
  },
  "nbformat": 4,
  "nbformat_minor": 5
}