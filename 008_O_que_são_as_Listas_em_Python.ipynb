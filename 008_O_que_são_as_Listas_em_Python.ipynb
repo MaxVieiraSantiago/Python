{
  "nbformat": 4,
  "nbformat_minor": 0,
  "metadata": {
    "colab": {
      "provenance": [],
      "authorship_tag": "ABX9TyPdChSMMS22xYK5pJ68NOAo",
      "include_colab_link": true
    },
    "kernelspec": {
      "name": "python3",
      "display_name": "Python 3"
    },
    "language_info": {
      "name": "python"
    }
  },
  "cells": [
    {
      "cell_type": "markdown",
      "metadata": {
        "id": "view-in-github",
        "colab_type": "text"
      },
      "source": [
        "<a href=\"https://colab.research.google.com/github/MaxVieiraSantiago/Python/blob/master/008_O_que_s%C3%A3o_as_Listas_em_Python.ipynb\" target=\"_parent\"><img src=\"https://colab.research.google.com/assets/colab-badge.svg\" alt=\"Open In Colab\"/></a>"
      ]
    },
    {
      "cell_type": "code",
      "execution_count": 1,
      "metadata": {
        "id": "HA0lY61B2uIE",
        "colab": {
          "base_uri": "https://localhost:8080/"
        },
        "outputId": "505fb0f3-f1e0-43e7-81e4-d5bc3150a14d"
      },
      "outputs": [
        {
          "output_type": "stream",
          "name": "stdout",
          "text": [
            "['banana', 'maçã', 'laranja']\n"
          ]
        }
      ],
      "source": [
        "lista_compras = ['banana', 'maçã', 'laranja']\n",
        "print( lista_compras )"
      ]
    },
    {
      "cell_type": "code",
      "source": [
        "print( lista_compras[1] )"
      ],
      "metadata": {
        "colab": {
          "base_uri": "https://localhost:8080/"
        },
        "id": "V_K4ohLP0koH",
        "outputId": "16ef1400-60ec-4cb5-8e96-58ed1c2d9f9e"
      },
      "execution_count": 2,
      "outputs": [
        {
          "output_type": "stream",
          "name": "stdout",
          "text": [
            "maçã\n"
          ]
        }
      ]
    },
    {
      "cell_type": "code",
      "source": [
        "print( lista_compras[ -1 ] )"
      ],
      "metadata": {
        "colab": {
          "base_uri": "https://localhost:8080/"
        },
        "id": "5mkJoH-70uIo",
        "outputId": "80c42b6e-3ff8-4e49-8a82-282d52cc73c2"
      },
      "execution_count": 3,
      "outputs": [
        {
          "output_type": "stream",
          "name": "stdout",
          "text": [
            "laranja\n"
          ]
        }
      ]
    },
    {
      "cell_type": "markdown",
      "source": [
        "### **Adicionando elementos**"
      ],
      "metadata": {
        "id": "YZPjNo6C1nts"
      }
    },
    {
      "cell_type": "code",
      "source": [
        "lista_compras.append( 'beterraba' )\n",
        "print( lista_compras )"
      ],
      "metadata": {
        "colab": {
          "base_uri": "https://localhost:8080/"
        },
        "id": "hPWUozqG08yl",
        "outputId": "14e033a2-c31f-4e1d-a5be-a1f625a2f437"
      },
      "execution_count": 4,
      "outputs": [
        {
          "output_type": "stream",
          "name": "stdout",
          "text": [
            "['banana', 'maçã', 'laranja', 'beterraba']\n"
          ]
        }
      ]
    },
    {
      "cell_type": "code",
      "source": [
        "lista_compras.insert(1, 'uva' )\n",
        "print( lista_compras )"
      ],
      "metadata": {
        "colab": {
          "base_uri": "https://localhost:8080/"
        },
        "id": "j3tMmlWA1A6w",
        "outputId": "b2ac49f8-667c-4aad-cfc9-b60cd7f0aeac"
      },
      "execution_count": 6,
      "outputs": [
        {
          "output_type": "stream",
          "name": "stdout",
          "text": [
            "['banana', 'uva', 'uva', 'maçã', 'laranja', 'beterraba']\n"
          ]
        }
      ]
    },
    {
      "cell_type": "markdown",
      "source": [
        "### **Eliminando elementos**"
      ],
      "metadata": {
        "id": "TYRg58jm1qsS"
      }
    },
    {
      "cell_type": "code",
      "source": [
        "# pop\n",
        "lista_compras.pop( 1 )\n",
        "print( lista_compras )"
      ],
      "metadata": {
        "colab": {
          "base_uri": "https://localhost:8080/"
        },
        "id": "Y7iae76Q1HDw",
        "outputId": "c76ea319-3c08-4d7d-fee1-d994e7367f4f"
      },
      "execution_count": 9,
      "outputs": [
        {
          "output_type": "stream",
          "name": "stdout",
          "text": [
            "['banana', 'uva', 'maçã', 'laranja', 'beterraba']\n"
          ]
        }
      ]
    },
    {
      "cell_type": "code",
      "source": [
        "# del\n",
        "del lista_compras[4]\n",
        "print( lista_compras )"
      ],
      "metadata": {
        "colab": {
          "base_uri": "https://localhost:8080/"
        },
        "id": "AYIH7UN91TlN",
        "outputId": "e23b1919-3d88-467f-d02f-fa4ec78f4af1"
      },
      "execution_count": 10,
      "outputs": [
        {
          "output_type": "stream",
          "name": "stdout",
          "text": [
            "['banana', 'uva', 'maçã', 'laranja']\n"
          ]
        }
      ]
    },
    {
      "cell_type": "code",
      "source": [
        "# remove\n",
        "lista_compras.remove( 'laranja' )\n",
        "print( lista_compras )"
      ],
      "metadata": {
        "colab": {
          "base_uri": "https://localhost:8080/"
        },
        "id": "NV3FAwqT1lIi",
        "outputId": "e9658f82-c9bb-4581-c03c-71ca065acbb8"
      },
      "execution_count": 12,
      "outputs": [
        {
          "output_type": "stream",
          "name": "stdout",
          "text": [
            "['banana', 'uva', 'maçã']\n"
          ]
        }
      ]
    },
    {
      "cell_type": "code",
      "source": [
        "lista_compras.append( 'carro' )\n",
        "print( lista_compras )"
      ],
      "metadata": {
        "id": "ivMG7-NN10Gj"
      },
      "execution_count": 13,
      "outputs": []
    },
    {
      "cell_type": "code",
      "source": [
        "lista_sonhos = []\n",
        "\n",
        "lista_sonhos.append( lista_compras.pop( -1 ))\n",
        "print( lista_sonhos )"
      ],
      "metadata": {
        "colab": {
          "base_uri": "https://localhost:8080/"
        },
        "id": "0mzecdfU2EZr",
        "outputId": "7073a744-8de6-4738-f280-272ccf3d5ace"
      },
      "execution_count": 16,
      "outputs": [
        {
          "output_type": "stream",
          "name": "stdout",
          "text": [
            "['carro']\n"
          ]
        }
      ]
    },
    {
      "cell_type": "code",
      "source": [
        "print( lista_compras )"
      ],
      "metadata": {
        "colab": {
          "base_uri": "https://localhost:8080/"
        },
        "id": "XL35mMQX2Yz6",
        "outputId": "c9aa8455-520e-4480-cb9d-e7677b907df1"
      },
      "execution_count": 17,
      "outputs": [
        {
          "output_type": "stream",
          "name": "stdout",
          "text": [
            "['banana', 'uva', 'maçã']\n"
          ]
        }
      ]
    },
    {
      "cell_type": "code",
      "source": [
        "tarefas = []\n",
        "\n",
        "tarefa = input( 'Insira uma tarefa' )\n",
        "tarefas.append( tarefa )\n",
        "\n",
        "print( tarefas )"
      ],
      "metadata": {
        "colab": {
          "base_uri": "https://localhost:8080/"
        },
        "id": "SApyBlv_2qvJ",
        "outputId": "2fb2eac7-0362-48ef-b9ce-8492b83e464b"
      },
      "execution_count": 19,
      "outputs": [
        {
          "output_type": "stream",
          "name": "stdout",
          "text": [
            "Insira uma tarefaCurtir a aula\n",
            "['Curtir a aula']\n"
          ]
        }
      ]
    },
    {
      "cell_type": "code",
      "source": [
        "while tarefa != '':\n",
        "  tarefa = input( 'Insira uma tarefa:')\n",
        "\n",
        "  if ( tarefa != '' ):\n",
        "    tarefas.append( tarefa )\n",
        "\n",
        "print( tarefas )"
      ],
      "metadata": {
        "colab": {
          "base_uri": "https://localhost:8080/"
        },
        "id": "k7zuDyNp23gS",
        "outputId": "a40ffb74-2812-4675-dada-66df7ddbefe2"
      },
      "execution_count": 21,
      "outputs": [
        {
          "output_type": "stream",
          "name": "stdout",
          "text": [
            "Insira uma tarefa:Estudar ciência de dados\n",
            "Insira uma tarefa:Finalizar parede em BH\n",
            "Insira uma tarefa:Ir para BH\n",
            "Insira uma tarefa:Estudar o curso da PUC\n",
            "Insira uma tarefa:\n",
            "['Curtir a aula', 'Estudar ciência de dados', 'Finalizar parede em BH', 'Ir para BH', 'Estudar o curso da PUC']\n"
          ]
        }
      ]
    },
    {
      "cell_type": "code",
      "source": [
        "lojas = ['Rio de Janeiro', 'Belo Horizonte', 'São Paulo', 'Porto Alegre']\n",
        "faturamento = [20000, 10000, 40000, 30000]\n",
        "\n",
        "print( lojas )\n",
        "print( faturamento )"
      ],
      "metadata": {
        "colab": {
          "base_uri": "https://localhost:8080/"
        },
        "id": "N1P44o5K3HlV",
        "outputId": "0ac5e3dd-091e-4b4d-ecd4-5121a602c59b"
      },
      "execution_count": 23,
      "outputs": [
        {
          "output_type": "stream",
          "name": "stdout",
          "text": [
            "['Rio de Janeiro', 'Belo Horizonte', 'São Paulo', 'Porto Alegre']\n",
            "[10000, 20000, 30000, 40000]\n"
          ]
        }
      ]
    },
    {
      "cell_type": "code",
      "source": [
        "faturamento.sort( reverse = False )\n",
        "\n",
        "print( lojas )\n",
        "print( faturamento )"
      ],
      "metadata": {
        "colab": {
          "base_uri": "https://localhost:8080/"
        },
        "id": "Jh13jx_h3nPR",
        "outputId": "4820afe6-36df-4d8e-8cae-5da60d7ecd22"
      },
      "execution_count": 26,
      "outputs": [
        {
          "output_type": "stream",
          "name": "stdout",
          "text": [
            "['Rio de Janeiro', 'Belo Horizonte', 'São Paulo', 'Porto Alegre']\n",
            "[10000, 20000, 30000, 40000]\n"
          ]
        }
      ]
    },
    {
      "cell_type": "code",
      "source": [
        "resultados = []\n",
        "\n",
        "for i in range( 3 ):\n",
        "  tupla = ( lojas[ 1 ], faturamento[ i ] )\n",
        "  resultados.append( tupla )\n",
        "\n",
        "print( resultados )\n"
      ],
      "metadata": {
        "colab": {
          "base_uri": "https://localhost:8080/"
        },
        "id": "LvnYXH9f30cO",
        "outputId": "3f360ef3-e4e1-4f96-9841-cd670edd6a44"
      },
      "execution_count": 27,
      "outputs": [
        {
          "output_type": "stream",
          "name": "stdout",
          "text": [
            "[('Belo Horizonte', 10000), ('Belo Horizonte', 20000), ('Belo Horizonte', 30000)]\n"
          ]
        }
      ]
    },
    {
      "cell_type": "code",
      "source": [
        "# Pegando o Faturamento de Belo Horizonte\n",
        "\n",
        "print( f'{resultados[ 1 ][ 1 ]:,.2f}' )"
      ],
      "metadata": {
        "colab": {
          "base_uri": "https://localhost:8080/"
        },
        "id": "qlrZLO264wxX",
        "outputId": "965e7609-bf8b-46be-eb19-90e7d5317ed5"
      },
      "execution_count": 34,
      "outputs": [
        {
          "output_type": "stream",
          "name": "stdout",
          "text": [
            "20,000.00\n"
          ]
        }
      ]
    },
    {
      "cell_type": "code",
      "source": [],
      "metadata": {
        "id": "rcZxRquE442u"
      },
      "execution_count": null,
      "outputs": []
    }
  ]
}