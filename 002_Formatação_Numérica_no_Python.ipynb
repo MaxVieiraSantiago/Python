{
  "nbformat": 4,
  "nbformat_minor": 0,
  "metadata": {
    "colab": {
      "provenance": [],
      "authorship_tag": "ABX9TyNrjSQtlfhv0z8AnjzpLKT+",
      "include_colab_link": true
    },
    "kernelspec": {
      "name": "python3",
      "display_name": "Python 3"
    },
    "language_info": {
      "name": "python"
    }
  },
  "cells": [
    {
      "cell_type": "markdown",
      "metadata": {
        "id": "view-in-github",
        "colab_type": "text"
      },
      "source": [
        "<a href=\"https://colab.research.google.com/github/MaxVieiraSantiago/Python/blob/master/002_Formata%C3%A7%C3%A3o_Num%C3%A9rica_no_Python.ipynb\" target=\"_parent\"><img src=\"https://colab.research.google.com/assets/colab-badge.svg\" alt=\"Open In Colab\"/></a>"
      ]
    },
    {
      "cell_type": "markdown",
      "source": [
        "# **Origem**\n",
        "\n",
        "https://www.youtube.com/watch?v=7QuriwzICaY"
      ],
      "metadata": {
        "id": "JYL92vj46BC6"
      }
    },
    {
      "cell_type": "markdown",
      "source": [
        "**Padrão**\n",
        "\n",
        "- Ponto separador de decimal"
      ],
      "metadata": {
        "id": "JFaiL2cf6Mup"
      }
    },
    {
      "cell_type": "code",
      "execution_count": 5,
      "metadata": {
        "colab": {
          "base_uri": "https://localhost:8080/"
        },
        "id": "k9zaTh5fuQ79",
        "outputId": "bb35adfe-12dc-4b68-b0eb-1e9ea8a6276e"
      },
      "outputs": [
        {
          "output_type": "stream",
          "name": "stdout",
          "text": [
            "O Lucro foi de R$ 1000\n",
            "O Lucro foi de R$ 1000.00\n",
            "O Lucro foi de R$ 1,000.00\n"
          ]
        }
      ],
      "source": [
        "faturamento = 1500\n",
        "custo = 500\n",
        "lucro = faturamento - custo\n",
        "\n",
        "print( f'O Lucro foi de R$ {lucro}')\n",
        "\n",
        "print( f'O Lucro foi de R$ {lucro:.2f}')\n",
        "\n",
        "print( f'O Lucro foi de R$ {lucro:,.2f}')"
      ]
    },
    {
      "cell_type": "code",
      "source": [
        "margem = lucro / faturamento\n",
        "\n",
        "print( f'A Margem foi de {margem:.2%}')"
      ],
      "metadata": {
        "colab": {
          "base_uri": "https://localhost:8080/"
        },
        "id": "9kjT7UQ-3GJx",
        "outputId": "b4b49821-948d-4bcc-ec6d-1ccde3b4fd38"
      },
      "execution_count": 7,
      "outputs": [
        {
          "output_type": "stream",
          "name": "stdout",
          "text": [
            "A Margem foi de 66.67%\n"
          ]
        }
      ]
    },
    {
      "cell_type": "markdown",
      "source": [
        "## **Artifíco para Formatar no Padrão de Moeda do Brasil ( R$ 1.000,00 )**"
      ],
      "metadata": {
        "id": "c7diFKb75cIu"
      }
    },
    {
      "cell_type": "code",
      "source": [
        "texto_lucro = f'R$ {lucro:_.2f}'\n",
        "texto_lucro = texto_lucro.replace( '.', ',' ).replace( '_', '.' )\n",
        "\n",
        "print( f'O Lucro foi de {texto_lucro}')"
      ],
      "metadata": {
        "colab": {
          "base_uri": "https://localhost:8080/"
        },
        "id": "yVFxD8R_3On8",
        "outputId": "6d6f15e4-9141-4690-ddbb-c837d9ac6926"
      },
      "execution_count": 10,
      "outputs": [
        {
          "output_type": "stream",
          "name": "stdout",
          "text": [
            "O Lucro foi de R$ 1.000,00\n"
          ]
        }
      ]
    },
    {
      "cell_type": "code",
      "source": [],
      "metadata": {
        "id": "v0nsxVmg4xIU"
      },
      "execution_count": null,
      "outputs": []
    }
  ]
}