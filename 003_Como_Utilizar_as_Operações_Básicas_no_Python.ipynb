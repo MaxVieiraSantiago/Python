{
  "nbformat": 4,
  "nbformat_minor": 0,
  "metadata": {
    "colab": {
      "provenance": [],
      "authorship_tag": "ABX9TyNUP11s1UKPfPRoF1D+Zm1m",
      "include_colab_link": true
    },
    "kernelspec": {
      "name": "python3",
      "display_name": "Python 3"
    },
    "language_info": {
      "name": "python"
    }
  },
  "cells": [
    {
      "cell_type": "markdown",
      "metadata": {
        "id": "view-in-github",
        "colab_type": "text"
      },
      "source": [
        "<a href=\"https://colab.research.google.com/github/MaxVieiraSantiago/Python/blob/master/003_Como_Utilizar_as_Opera%C3%A7%C3%B5es_B%C3%A1sicas_no_Python.ipynb\" target=\"_parent\"><img src=\"https://colab.research.google.com/assets/colab-badge.svg\" alt=\"Open In Colab\"/></a>"
      ]
    },
    {
      "cell_type": "markdown",
      "source": [
        "# **Origem**\n",
        "\n",
        "https://www.youtube.com/watch?v=Z2_xYFWvlNg"
      ],
      "metadata": {
        "id": "54xzmvxQ7IsR"
      }
    },
    {
      "cell_type": "code",
      "execution_count": 1,
      "metadata": {
        "colab": {
          "base_uri": "https://localhost:8080/"
        },
        "id": "omZ6UIWS66aa",
        "outputId": "79ff6d44-d5c5-46bb-e2ea-a35d1f764253"
      },
      "outputs": [
        {
          "output_type": "stream",
          "name": "stdout",
          "text": [
            "4\n"
          ]
        }
      ],
      "source": [
        "# Adição\n",
        "print( 2 + 2 )"
      ]
    },
    {
      "cell_type": "code",
      "source": [
        "# Subtração\n",
        "print( 2 - 2 )"
      ],
      "metadata": {
        "colab": {
          "base_uri": "https://localhost:8080/"
        },
        "id": "E7RQi97u7agN",
        "outputId": "e30fb636-b22e-4e9a-fe9f-efa1677eb61b"
      },
      "execution_count": 2,
      "outputs": [
        {
          "output_type": "stream",
          "name": "stdout",
          "text": [
            "0\n"
          ]
        }
      ]
    },
    {
      "cell_type": "code",
      "source": [
        "# Multiplicação\n",
        "print( 2 * 2 )"
      ],
      "metadata": {
        "colab": {
          "base_uri": "https://localhost:8080/"
        },
        "id": "IdQNdtoY7g3Z",
        "outputId": "a9d8fe98-fa3c-4783-8f7e-9df1f3a12cce"
      },
      "execution_count": 3,
      "outputs": [
        {
          "output_type": "stream",
          "name": "stdout",
          "text": [
            "4\n"
          ]
        }
      ]
    },
    {
      "cell_type": "code",
      "source": [
        "# Divisão\n",
        "print( 2 / 5 )\n",
        "\n",
        "# E a divisão por zero ?\n",
        "print( 2 / 0 )"
      ],
      "metadata": {
        "id": "qb6FkIi37jZ-"
      },
      "execution_count": null,
      "outputs": []
    },
    {
      "cell_type": "code",
      "source": [
        "# Potência\n",
        "print( 2 ** 5 )"
      ],
      "metadata": {
        "colab": {
          "base_uri": "https://localhost:8080/"
        },
        "id": "osoqhDzi7nOy",
        "outputId": "b8eed56f-fb8c-430f-fd08-2588cdf29f1a"
      },
      "execution_count": 8,
      "outputs": [
        {
          "output_type": "stream",
          "name": "stdout",
          "text": [
            "32\n"
          ]
        }
      ]
    },
    {
      "cell_type": "code",
      "source": [
        "# Raiz\n",
        "print( 9 ** ( 1/2 ) ) # Raiz Quadrada de 2"
      ],
      "metadata": {
        "colab": {
          "base_uri": "https://localhost:8080/"
        },
        "id": "nP6uHfi98Gri",
        "outputId": "b74b70b3-0aab-4125-9e03-232d81e5f3c4"
      },
      "execution_count": 11,
      "outputs": [
        {
          "output_type": "stream",
          "name": "stdout",
          "text": [
            "3.0\n"
          ]
        }
      ]
    },
    {
      "cell_type": "code",
      "source": [
        "# Mod\n",
        "print( 7 % 3 )"
      ],
      "metadata": {
        "colab": {
          "base_uri": "https://localhost:8080/"
        },
        "id": "9tTNJBOC8Ta7",
        "outputId": "c445a6a4-4f6e-4593-a176-73a5075eb459"
      },
      "execution_count": 14,
      "outputs": [
        {
          "output_type": "stream",
          "name": "stdout",
          "text": [
            "1\n"
          ]
        }
      ]
    },
    {
      "cell_type": "code",
      "source": [
        "# Ordem das Operações\n",
        "\n",
        "# Mesma ordem da matemática"
      ],
      "metadata": {
        "id": "P5aMv4L58foa"
      },
      "execution_count": null,
      "outputs": []
    }
  ]
}