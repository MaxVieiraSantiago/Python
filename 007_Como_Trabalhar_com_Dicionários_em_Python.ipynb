{
  "nbformat": 4,
  "nbformat_minor": 0,
  "metadata": {
    "colab": {
      "provenance": [],
      "authorship_tag": "ABX9TyPRIpc6c5ZNwbbIJCO3JDL+",
      "include_colab_link": true
    },
    "kernelspec": {
      "name": "python3",
      "display_name": "Python 3"
    },
    "language_info": {
      "name": "python"
    }
  },
  "cells": [
    {
      "cell_type": "markdown",
      "metadata": {
        "id": "view-in-github",
        "colab_type": "text"
      },
      "source": [
        "<a href=\"https://colab.research.google.com/github/MaxVieiraSantiago/Python/blob/master/007_Como_Trabalhar_com_Dicion%C3%A1rios_em_Python.ipynb\" target=\"_parent\"><img src=\"https://colab.research.google.com/assets/colab-badge.svg\" alt=\"Open In Colab\"/></a>"
      ]
    },
    {
      "cell_type": "markdown",
      "source": [
        "### **Dicionários em Python**"
      ],
      "metadata": {
        "id": "xAHS3U65v9RN"
      }
    },
    {
      "cell_type": "code",
      "execution_count": 1,
      "metadata": {
        "id": "lUyIHQIvqAhn"
      },
      "outputs": [],
      "source": [
        "email_gerentes = {\n",
        "                   'Central':'central@gmail.com',\n",
        "                   'Minas':'minasshopping@mg.com.br',\n",
        "                   'Cidade':'cidade_shopping@arcelorMittal.com.br',\n",
        "                   'Delrey':'delrey@shoppping.com'\n",
        "                  }\n"
      ]
    },
    {
      "cell_type": "markdown",
      "source": [
        "### **Se quiser descobrir o e-mail do shopping Cidade**"
      ],
      "metadata": {
        "id": "n85qf0bTw5VK"
      }
    },
    {
      "cell_type": "code",
      "source": [
        "print( email_gerentes['Cidade'] )"
      ],
      "metadata": {
        "colab": {
          "base_uri": "https://localhost:8080/"
        },
        "id": "k5GLfxo2w-RS",
        "outputId": "e47add3c-42f3-43c0-87cb-4fc6adee0379"
      },
      "execution_count": 2,
      "outputs": [
        {
          "output_type": "stream",
          "name": "stdout",
          "text": [
            "cidade_shopping@arcelorMittal.com.br\n"
          ]
        }
      ]
    },
    {
      "cell_type": "markdown",
      "source": [
        "### **Para adicionar um shopping novo**"
      ],
      "metadata": {
        "id": "1yaCfHj0xSQJ"
      }
    },
    {
      "cell_type": "code",
      "source": [
        "email_gerentes[ 'Oiapoque' ] = 'shopping_oi@povo.com.br'\n",
        "print( email_gerentes )"
      ],
      "metadata": {
        "colab": {
          "base_uri": "https://localhost:8080/"
        },
        "id": "bNzyh9_9xKG4",
        "outputId": "93e48ff5-3ce6-45cd-9329-0dacda336f9e"
      },
      "execution_count": 8,
      "outputs": [
        {
          "output_type": "stream",
          "name": "stdout",
          "text": [
            "{'Central': 'central@gmail.com', 'Minas': 'minasshopping@mg.com.br', 'Cidade': 'cidade_shopping@arcelorMittal.com.br', 'Delrey': 'delrey@shoppping.com', 'Oiapoque': 'shopping_oi@povo.com.br'}\n"
          ]
        }
      ]
    },
    {
      "cell_type": "markdown",
      "source": [
        "### **Para descobrir todos os shoppings que temos**"
      ],
      "metadata": {
        "id": "fPdWd3FFx4IH"
      }
    },
    {
      "cell_type": "code",
      "source": [
        "# Forma 1 - Usando For\n",
        "for shopping in email_gerentes:\n",
        "  print( shopping )"
      ],
      "metadata": {
        "colab": {
          "base_uri": "https://localhost:8080/"
        },
        "id": "rwmOqJDBxiBW",
        "outputId": "2cf7cd7e-e5dd-4eb8-e40b-61915ed21d01"
      },
      "execution_count": 9,
      "outputs": [
        {
          "output_type": "stream",
          "name": "stdout",
          "text": [
            "Central\n",
            "Minas\n",
            "Cidade\n",
            "Delrey\n",
            "Oiapoque\n"
          ]
        }
      ]
    },
    {
      "cell_type": "code",
      "source": [
        "# Forma 2 - keys()\n",
        "print( email_gerentes.keys() )"
      ],
      "metadata": {
        "colab": {
          "base_uri": "https://localhost:8080/"
        },
        "id": "LFbgkTbyyBw1",
        "outputId": "562ed164-6155-4db5-9429-04ebf37bde78"
      },
      "execution_count": 10,
      "outputs": [
        {
          "output_type": "stream",
          "name": "stdout",
          "text": [
            "dict_keys(['Central', 'Minas', 'Cidade', 'Delrey', 'Oiapoque'])\n"
          ]
        }
      ]
    },
    {
      "cell_type": "markdown",
      "source": [
        "### **Para descobrir todos os e-mails que temos**"
      ],
      "metadata": {
        "id": "mX8mvtXryUSD"
      }
    },
    {
      "cell_type": "code",
      "source": [
        "# Forma 1 - Usando For\n",
        "for shopping in email_gerentes:\n",
        "  print( email_gerentes[ shopping ] )"
      ],
      "metadata": {
        "colab": {
          "base_uri": "https://localhost:8080/"
        },
        "id": "cUbnSVdZyL_C",
        "outputId": "b967202f-be08-45a9-e7d3-be8802aea498"
      },
      "execution_count": 15,
      "outputs": [
        {
          "output_type": "stream",
          "name": "stdout",
          "text": [
            "central@gmail.com\n",
            "minasshopping@mg.com.br\n",
            "cidade_shopping@arcelorMittal.com.br\n",
            "delrey@shoppping.com\n",
            "shopping_oi@povo.com.br\n"
          ]
        }
      ]
    },
    {
      "cell_type": "code",
      "source": [
        "# Forma 2 - values()\n",
        "print( email_gerentes.values() )"
      ],
      "metadata": {
        "colab": {
          "base_uri": "https://localhost:8080/"
        },
        "id": "CaqhXYLCykxg",
        "outputId": "26899f5a-5200-4c51-b733-38b3c3df1075"
      },
      "execution_count": 16,
      "outputs": [
        {
          "output_type": "stream",
          "name": "stdout",
          "text": [
            "dict_values(['central@gmail.com', 'minasshopping@mg.com.br', 'cidade_shopping@arcelorMittal.com.br', 'delrey@shoppping.com', 'shopping_oi@povo.com.br'])\n"
          ]
        }
      ]
    },
    {
      "cell_type": "markdown",
      "source": [
        "### **Retirar um shopping**"
      ],
      "metadata": {
        "id": "yEZGYf5AzAfm"
      }
    },
    {
      "cell_type": "code",
      "source": [
        "if 'Delrey' in email_gerentes:\n",
        "  email_gerentes.pop( 'Delrey' )\n",
        "  \n",
        "print( email_gerentes )"
      ],
      "metadata": {
        "colab": {
          "base_uri": "https://localhost:8080/"
        },
        "id": "EY4Xqg3Wy5x4",
        "outputId": "bdd58432-4aac-42eb-de85-f7bdedf8e498"
      },
      "execution_count": 19,
      "outputs": [
        {
          "output_type": "stream",
          "name": "stdout",
          "text": [
            "{'Central': 'central@gmail.com', 'Minas': 'minasshopping@mg.com.br', 'Cidade': 'cidade_shopping@arcelorMittal.com.br', 'Oiapoque': 'shopping_oi@povo.com.br'}\n"
          ]
        }
      ]
    },
    {
      "cell_type": "markdown",
      "source": [
        "### **Verificar se um shopping existe**"
      ],
      "metadata": {
        "id": "pixr6hXN1Mu5"
      }
    },
    {
      "cell_type": "code",
      "source": [
        "if ( 'central@gmail.com' in email_gerentes.values() ):\n",
        "  print( 'Existe' )\n",
        "else:\n",
        "  print( 'Não existe !')"
      ],
      "metadata": {
        "colab": {
          "base_uri": "https://localhost:8080/"
        },
        "id": "o_k77MXs0_XM",
        "outputId": "85fd2a94-e483-4366-c6e6-7b1301e9dca1"
      },
      "execution_count": 20,
      "outputs": [
        {
          "output_type": "stream",
          "name": "stdout",
          "text": [
            "Existe\n"
          ]
        }
      ]
    },
    {
      "cell_type": "code",
      "source": [],
      "metadata": {
        "id": "dVemNrZO1dJT"
      },
      "execution_count": null,
      "outputs": []
    }
  ]
}