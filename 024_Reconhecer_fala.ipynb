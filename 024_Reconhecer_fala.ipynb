{
  "cells": [
    {
      "cell_type": "markdown",
      "metadata": {
        "id": "view-in-github",
        "colab_type": "text"
      },
      "source": [
        "<a href=\"https://colab.research.google.com/github/MaxVieiraSantiago/Python/blob/master/024_Reconhecer_fala.ipynb\" target=\"_parent\"><img src=\"https://colab.research.google.com/assets/colab-badge.svg\" alt=\"Open In Colab\"/></a>"
      ]
    },
    {
      "cell_type": "code",
      "execution_count": null,
      "metadata": {
        "id": "mSTpcJqUUCYu"
      },
      "outputs": [],
      "source": [
        "# instalação: SpeechRecognition e PyAudio\n",
        "# para pyaudio, digite no google \"install pyaudio seu_sistema_operacional\""
      ]
    },
    {
      "cell_type": "code",
      "execution_count": null,
      "metadata": {
        "id": "OJIyX52ZUCY1"
      },
      "outputs": [],
      "source": [
        "pip install pyaudio"
      ]
    },
    {
      "cell_type": "code",
      "execution_count": null,
      "metadata": {
        "id": "fGlZb4agUCY3"
      },
      "outputs": [],
      "source": [
        "pip install SpeechRecognition"
      ]
    },
    {
      "cell_type": "code",
      "execution_count": null,
      "metadata": {
        "id": "gB-s5Y6NUCY4",
        "outputId": "ef87ff80-b787-4e1d-de51-127de93d001e"
      },
      "outputs": [
        {
          "name": "stdout",
          "output_type": "stream",
          "text": [
            "['Microsoft Sound Mapper - Input', 'Microphone (High Definition Aud', 'Microsoft Sound Mapper - Output', 'Speakers (High Definition Audio', 'Driver de captura de som primário', 'Microphone (High Definition Audio Device)', 'Driver de som primário', 'Speakers (High Definition Audio Device)', 'Speakers (High Definition Audio Device)', 'Microphone (High Definition Audio Device)', 'Microphone (HD Audio Microphone 2)', 'Speakers (HD Audio Headphone/Speakers)']\n"
          ]
        }
      ],
      "source": [
        "import speech_recognition as sr\n",
        "\n",
        "rec = sr.Recognizer()\n",
        "\n",
        "print( sr.Microphone().list_microphone_names() )"
      ]
    },
    {
      "cell_type": "code",
      "execution_count": null,
      "metadata": {
        "id": "G_IuHu5kUCY6",
        "outputId": "e4702aed-31ee-4ecb-8a4a-a9f5cc23d2b8"
      },
      "outputs": [
        {
          "name": "stdout",
          "output_type": "stream",
          "text": [
            "Pode falar que eu vou gravar\n",
            "Bom dia você está me ouvindo\n"
          ]
        }
      ],
      "source": [
        "# Podemos passar a posição do microfone ( lista que aparece acima ) para utilização\n",
        "# with sr.Microphones(1) as mic:\n",
        "\n",
        "# Pega o microfone default ( sem índice )\n",
        "with sr.Microphone() as mic:\n",
        "    # Ajustar o ruído do ambiente\n",
        "    rec.adjust_for_ambient_noise(mic)\n",
        "    print(\"Pode falar que eu vou gravar\")\n",
        "\n",
        "    # Ouvir o Áudio que está vindo do Microfone\n",
        "    audio = rec.listen(mic)\n",
        "\n",
        "    # Reconhecer o áudio e transformar em texto\n",
        "    texto = rec.recognize_google(audio, language=\"pt-BR\")\n",
        "    print(texto)"
      ]
    },
    {
      "cell_type": "code",
      "execution_count": null,
      "metadata": {
        "id": "jDA2gI7_UCY8"
      },
      "outputs": [],
      "source": []
    }
  ],
  "metadata": {
    "kernelspec": {
      "display_name": "Python 3",
      "language": "python",
      "name": "python3"
    },
    "language_info": {
      "codemirror_mode": {
        "name": "ipython",
        "version": 3
      },
      "file_extension": ".py",
      "mimetype": "text/x-python",
      "name": "python",
      "nbconvert_exporter": "python",
      "pygments_lexer": "ipython3",
      "version": "3.9.12"
    },
    "orig_nbformat": 4,
    "colab": {
      "provenance": [],
      "include_colab_link": true
    }
  },
  "nbformat": 4,
  "nbformat_minor": 0
}