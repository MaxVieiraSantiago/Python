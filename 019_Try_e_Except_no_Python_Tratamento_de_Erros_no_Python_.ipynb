{
  "cells": [
    {
      "cell_type": "markdown",
      "metadata": {
        "id": "view-in-github",
        "colab_type": "text"
      },
      "source": [
        "<a href=\"https://colab.research.google.com/github/MaxVieiraSantiago/Python/blob/master/019_Try_e_Except_no_Python_Tratamento_de_Erros_no_Python_.ipynb\" target=\"_parent\"><img src=\"https://colab.research.google.com/assets/colab-badge.svg\" alt=\"Open In Colab\"/></a>"
      ]
    },
    {
      "cell_type": "markdown",
      "id": "1267d999",
      "metadata": {
        "id": "1267d999"
      },
      "source": [
        "# Lendo o arquivo:"
      ]
    },
    {
      "cell_type": "code",
      "execution_count": 1,
      "id": "c16c9187",
      "metadata": {
        "colab": {
          "base_uri": "https://localhost:8080/"
        },
        "id": "c16c9187",
        "outputId": "3408136a-cd4b-443b-ecde-f37f4e1547ff"
      },
      "outputs": [
        {
          "output_type": "stream",
          "name": "stdout",
          "text": [
            "Deu ruim\n"
          ]
        }
      ],
      "source": [
        "try:\n",
        "    with open('aruivo.txt', 'r') as file_object:\n",
        "        texto = file_object.read()\n",
        "        print(texto)\n",
        "    \n",
        "except:\n",
        "    print('Deu ruim')"
      ]
    },
    {
      "cell_type": "markdown",
      "id": "cbf1f5ea",
      "metadata": {
        "id": "cbf1f5ea"
      },
      "source": [
        "# Tipos de erros:\n",
        "link:https://docs.python.org/3/library/exceptions.html"
      ]
    },
    {
      "cell_type": "markdown",
      "id": "d6fab610",
      "metadata": {
        "id": "d6fab610"
      },
      "source": [
        "### FileNotFoundError:"
      ]
    },
    {
      "cell_type": "code",
      "execution_count": 3,
      "id": "35d90efa",
      "metadata": {
        "colab": {
          "base_uri": "https://localhost:8080/"
        },
        "id": "35d90efa",
        "outputId": "976d4d64-0ea7-4880-f899-aa9e32a15d85"
      },
      "outputs": [
        {
          "output_type": "stream",
          "name": "stdout",
          "text": [
            "Max: [Errno 2] No such file or directory: 'aruivo.txt'\n"
          ]
        }
      ],
      "source": [
        "try:\n",
        "    with open('aruivo.txt', 'r') as file_object:\n",
        "        texto = file_object.read()\n",
        "        print(texto)\n",
        "\n",
        "   \n",
        "except FileNotFoundError as error:\n",
        "    print('Max:', error)\n",
        "\n",
        "except:\n",
        "    print('Deu ruim')"
      ]
    },
    {
      "cell_type": "markdown",
      "id": "d4841b3e",
      "metadata": {
        "id": "d4841b3e"
      },
      "source": [
        "### ZeroDivisionError:"
      ]
    },
    {
      "cell_type": "code",
      "execution_count": null,
      "id": "98ae7fa6",
      "metadata": {
        "id": "98ae7fa6",
        "outputId": "b2c8a3c2-466b-485e-d5c9-9b9e4c6b47e2"
      },
      "outputs": [
        {
          "name": "stdout",
          "output_type": "stream",
          "text": [
            "division by zero\n"
          ]
        }
      ],
      "source": [
        "a = 10\n",
        "b = 0\n",
        "\n",
        "try:\n",
        "    print(a/b)\n",
        "\n",
        "except ZeroDivisionError as error:\n",
        "    print(error)\n",
        "\n"
      ]
    },
    {
      "cell_type": "markdown",
      "id": "e9135750",
      "metadata": {
        "id": "e9135750"
      },
      "source": [
        "### Else e Finally:"
      ]
    },
    {
      "cell_type": "code",
      "execution_count": 6,
      "id": "0518f15c",
      "metadata": {
        "colab": {
          "base_uri": "https://localhost:8080/"
        },
        "id": "0518f15c",
        "outputId": "e755485c-a621-4b60-cb1c-e4fbe4d24ea6"
      },
      "outputs": [
        {
          "output_type": "stream",
          "name": "stdout",
          "text": [
            "division by zero\n",
            "Aqui sempre vai printar\n"
          ]
        }
      ],
      "source": [
        "a = 10\n",
        "b = 0\n",
        "\n",
        "try:\n",
        "    print(a/b)\n",
        "\n",
        "except ZeroDivisionError as error:\n",
        "    print(error)\n",
        "\n",
        "else:\n",
        "    print( ' Sem erros')\n",
        "\n",
        "finally:\n",
        "    print('Aqui sempre vai printar')\n",
        "\n",
        "    \n",
        "    "
      ]
    }
  ],
  "metadata": {
    "kernelspec": {
      "display_name": "Python 3 (ipykernel)",
      "language": "python",
      "name": "python3"
    },
    "language_info": {
      "codemirror_mode": {
        "name": "ipython",
        "version": 3
      },
      "file_extension": ".py",
      "mimetype": "text/x-python",
      "name": "python",
      "nbconvert_exporter": "python",
      "pygments_lexer": "ipython3",
      "version": "3.8.3"
    },
    "colab": {
      "provenance": [],
      "include_colab_link": true
    }
  },
  "nbformat": 4,
  "nbformat_minor": 5
}