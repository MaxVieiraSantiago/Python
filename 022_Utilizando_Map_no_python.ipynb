{
  "cells": [
    {
      "cell_type": "markdown",
      "metadata": {
        "id": "view-in-github",
        "colab_type": "text"
      },
      "source": [
        "<a href=\"https://colab.research.google.com/github/MaxVieiraSantiago/Python/blob/master/022_Utilizando_Map_no_python.ipynb\" target=\"_parent\"><img src=\"https://colab.research.google.com/assets/colab-badge.svg\" alt=\"Open In Colab\"/></a>"
      ]
    },
    {
      "cell_type": "markdown",
      "id": "92e12b41",
      "metadata": {
        "id": "92e12b41"
      },
      "source": [
        "### map -> aplica uma função em cada item de uma lista de itens"
      ]
    },
    {
      "cell_type": "markdown",
      "id": "6e4b2b78",
      "metadata": {
        "id": "6e4b2b78"
      },
      "source": [
        "##### Exemplo:"
      ]
    },
    {
      "cell_type": "code",
      "execution_count": null,
      "id": "4d832286",
      "metadata": {
        "id": "4d832286",
        "outputId": "4c60e1ef-c73f-4623-95e1-20d440dcdee3"
      },
      "outputs": [
        {
          "name": "stdout",
          "output_type": "stream",
          "text": [
            "[1000, 1500, 1250, 2500]\n",
            "[1100.0, 1650.0000000000002, 1375.0, 2750.0]\n"
          ]
        }
      ],
      "source": [
        "precos = [1000, 1500, 1250, 2500]\n",
        "\n",
        "def adicionar_imposto(preco):\n",
        "    return preco * 1.1"
      ]
    },
    {
      "cell_type": "markdown",
      "id": "b9e7638b",
      "metadata": {
        "id": "b9e7638b"
      },
      "source": [
        "##### Jeito manual: usando for"
      ]
    },
    {
      "cell_type": "code",
      "execution_count": null,
      "id": "89367e7b",
      "metadata": {
        "id": "89367e7b",
        "outputId": "0b54ed56-c3b3-4fd1-f216-c0b9ceb2ce21"
      },
      "outputs": [
        {
          "name": "stdout",
          "output_type": "stream",
          "text": [
            "[1100.0, 1650.0000000000002, 1375.0, 2750.0]\n"
          ]
        }
      ],
      "source": [
        "precos_com_imposto = []\n",
        "for preco in precos:\n",
        "    precos_com_imposto.append(adicionar_imposto(preco))\n",
        "print(precos_com_imposto)"
      ]
    },
    {
      "cell_type": "markdown",
      "id": "d48d3031",
      "metadata": {
        "id": "d48d3031"
      },
      "source": [
        "##### Usando o map:"
      ]
    },
    {
      "cell_type": "code",
      "execution_count": null,
      "id": "5a34bc8e",
      "metadata": {
        "id": "5a34bc8e",
        "outputId": "ffb07915-f9d4-4b04-a353-5175e0f8c97e"
      },
      "outputs": [
        {
          "name": "stdout",
          "output_type": "stream",
          "text": [
            "[1100.0, 1650.0000000000002, 1375.0, 2750.0]\n"
          ]
        }
      ],
      "source": [
        "precos_com_imposto2 = list(map(adicionar_imposto, precos))\n",
        "print(precos_com_imposto2)"
      ]
    },
    {
      "cell_type": "markdown",
      "id": "b420f176",
      "metadata": {
        "id": "b420f176"
      },
      "source": [
        "##### Aplicação:\n",
        "\n",
        "Vamos calcular o preço com imposto em uma base de dados Python:"
      ]
    },
    {
      "cell_type": "code",
      "execution_count": null,
      "id": "32e0049a",
      "metadata": {
        "id": "32e0049a",
        "outputId": "907bf580-05ea-4cd1-ce77-67866090a6a8"
      },
      "outputs": [
        {
          "data": {
            "text/html": [
              "<div>\n",
              "<style scoped>\n",
              "    .dataframe tbody tr th:only-of-type {\n",
              "        vertical-align: middle;\n",
              "    }\n",
              "\n",
              "    .dataframe tbody tr th {\n",
              "        vertical-align: top;\n",
              "    }\n",
              "\n",
              "    .dataframe thead th {\n",
              "        text-align: right;\n",
              "    }\n",
              "</style>\n",
              "<table border=\"1\" class=\"dataframe\">\n",
              "  <thead>\n",
              "    <tr style=\"text-align: right;\">\n",
              "      <th></th>\n",
              "      <th>SKU</th>\n",
              "      <th>Produto</th>\n",
              "      <th>Quantidade Vendida</th>\n",
              "      <th>Primeiro Nome</th>\n",
              "      <th>Sobrenome</th>\n",
              "      <th>Data</th>\n",
              "      <th>Loja</th>\n",
              "      <th>Preco Unitario</th>\n",
              "      <th>Unnamed: 8</th>\n",
              "    </tr>\n",
              "  </thead>\n",
              "  <tbody>\n",
              "    <tr>\n",
              "      <th>0</th>\n",
              "      <td>HL4379</td>\n",
              "      <td>Televisão</td>\n",
              "      <td>5</td>\n",
              "      <td>Gabriel</td>\n",
              "      <td>Thoni</td>\n",
              "      <td>6/30/2018</td>\n",
              "      <td>Curitiba</td>\n",
              "      <td>2500</td>\n",
              "      <td>NaN</td>\n",
              "    </tr>\n",
              "    <tr>\n",
              "      <th>1</th>\n",
              "      <td>HL4379</td>\n",
              "      <td>Televisão</td>\n",
              "      <td>3</td>\n",
              "      <td>Renan</td>\n",
              "      <td>Nascimento</td>\n",
              "      <td>9/14/2018</td>\n",
              "      <td>Recife</td>\n",
              "      <td>2500</td>\n",
              "      <td>NaN</td>\n",
              "    </tr>\n",
              "    <tr>\n",
              "      <th>2</th>\n",
              "      <td>HL1148</td>\n",
              "      <td>Câmera</td>\n",
              "      <td>2</td>\n",
              "      <td>Camila</td>\n",
              "      <td>Sobral</td>\n",
              "      <td>10/21/2018</td>\n",
              "      <td>Fortaleza</td>\n",
              "      <td>2100</td>\n",
              "      <td>NaN</td>\n",
              "    </tr>\n",
              "    <tr>\n",
              "      <th>3</th>\n",
              "      <td>HL1918</td>\n",
              "      <td>iPhone</td>\n",
              "      <td>3</td>\n",
              "      <td>Clara</td>\n",
              "      <td>Bruno</td>\n",
              "      <td>7/8/2018</td>\n",
              "      <td>Fortaleza</td>\n",
              "      <td>5300</td>\n",
              "      <td>NaN</td>\n",
              "    </tr>\n",
              "    <tr>\n",
              "      <th>4</th>\n",
              "      <td>HL9962</td>\n",
              "      <td>Android</td>\n",
              "      <td>4</td>\n",
              "      <td>Eduardo</td>\n",
              "      <td>Pacheco</td>\n",
              "      <td>12/19/2018</td>\n",
              "      <td>Fortaleza</td>\n",
              "      <td>3400</td>\n",
              "      <td>NaN</td>\n",
              "    </tr>\n",
              "    <tr>\n",
              "      <th>...</th>\n",
              "      <td>...</td>\n",
              "      <td>...</td>\n",
              "      <td>...</td>\n",
              "      <td>...</td>\n",
              "      <td>...</td>\n",
              "      <td>...</td>\n",
              "      <td>...</td>\n",
              "      <td>...</td>\n",
              "      <td>...</td>\n",
              "    </tr>\n",
              "    <tr>\n",
              "      <th>9994</th>\n",
              "      <td>HL4379</td>\n",
              "      <td>Televisão</td>\n",
              "      <td>2</td>\n",
              "      <td>Caio</td>\n",
              "      <td>Ferreira</td>\n",
              "      <td>5/18/2018</td>\n",
              "      <td>Fortaleza</td>\n",
              "      <td>2500</td>\n",
              "      <td>NaN</td>\n",
              "    </tr>\n",
              "    <tr>\n",
              "      <th>9995</th>\n",
              "      <td>HL1148</td>\n",
              "      <td>Câmera</td>\n",
              "      <td>5</td>\n",
              "      <td>Kim</td>\n",
              "      <td>Ferreira</td>\n",
              "      <td>3/6/2018</td>\n",
              "      <td>Fortaleza</td>\n",
              "      <td>2100</td>\n",
              "      <td>NaN</td>\n",
              "    </tr>\n",
              "    <tr>\n",
              "      <th>9996</th>\n",
              "      <td>HL4379</td>\n",
              "      <td>Televisão</td>\n",
              "      <td>5</td>\n",
              "      <td>Caio</td>\n",
              "      <td>Moraes</td>\n",
              "      <td>1/22/2018</td>\n",
              "      <td>São Paulo</td>\n",
              "      <td>2500</td>\n",
              "      <td>NaN</td>\n",
              "    </tr>\n",
              "    <tr>\n",
              "      <th>9997</th>\n",
              "      <td>HL1918</td>\n",
              "      <td>iPhone</td>\n",
              "      <td>4</td>\n",
              "      <td>Norman</td>\n",
              "      <td>Jimbo</td>\n",
              "      <td>6/13/2018</td>\n",
              "      <td>Porto Alegre</td>\n",
              "      <td>5300</td>\n",
              "      <td>NaN</td>\n",
              "    </tr>\n",
              "    <tr>\n",
              "      <th>9998</th>\n",
              "      <td>HL7348</td>\n",
              "      <td>SmartWatch</td>\n",
              "      <td>1</td>\n",
              "      <td>Vinícius</td>\n",
              "      <td>Antunes</td>\n",
              "      <td>12/10/2018</td>\n",
              "      <td>Curitiba</td>\n",
              "      <td>1400</td>\n",
              "      <td>NaN</td>\n",
              "    </tr>\n",
              "  </tbody>\n",
              "</table>\n",
              "<p>9999 rows × 9 columns</p>\n",
              "</div>"
            ],
            "text/plain": [
              "         SKU     Produto  Quantidade Vendida Primeiro Nome   Sobrenome  \\\n",
              "0     HL4379   Televisão                   5       Gabriel       Thoni   \n",
              "1     HL4379   Televisão                   3         Renan  Nascimento   \n",
              "2     HL1148      Câmera                   2        Camila      Sobral   \n",
              "3     HL1918      iPhone                   3         Clara       Bruno   \n",
              "4     HL9962     Android                   4       Eduardo     Pacheco   \n",
              "...      ...         ...                 ...           ...         ...   \n",
              "9994  HL4379   Televisão                   2          Caio    Ferreira   \n",
              "9995  HL1148      Câmera                   5           Kim    Ferreira   \n",
              "9996  HL4379   Televisão                   5          Caio      Moraes   \n",
              "9997  HL1918      iPhone                   4        Norman       Jimbo   \n",
              "9998  HL7348  SmartWatch                   1      Vinícius     Antunes   \n",
              "\n",
              "            Data          Loja  Preco Unitario  Unnamed: 8  \n",
              "0      6/30/2018      Curitiba            2500         NaN  \n",
              "1      9/14/2018        Recife            2500         NaN  \n",
              "2     10/21/2018     Fortaleza            2100         NaN  \n",
              "3       7/8/2018     Fortaleza            5300         NaN  \n",
              "4     12/19/2018     Fortaleza            3400         NaN  \n",
              "...          ...           ...             ...         ...  \n",
              "9994   5/18/2018     Fortaleza            2500         NaN  \n",
              "9995    3/6/2018     Fortaleza            2100         NaN  \n",
              "9996   1/22/2018     São Paulo            2500         NaN  \n",
              "9997   6/13/2018  Porto Alegre            5300         NaN  \n",
              "9998  12/10/2018      Curitiba            1400         NaN  \n",
              "\n",
              "[9999 rows x 9 columns]"
            ]
          },
          "metadata": {},
          "output_type": "display_data"
        }
      ],
      "source": [
        "import pandas as pd\n",
        "\n",
        "tabela = pd.read_excel('Base Vendas.xlsx')\n",
        "display(tabela)"
      ]
    },
    {
      "cell_type": "code",
      "execution_count": null,
      "id": "3f1912fb",
      "metadata": {
        "id": "3f1912fb",
        "outputId": "f3e6b5b7-bc25-44ef-8575-7c9d62ec35be"
      },
      "outputs": [
        {
          "data": {
            "text/html": [
              "<div>\n",
              "<style scoped>\n",
              "    .dataframe tbody tr th:only-of-type {\n",
              "        vertical-align: middle;\n",
              "    }\n",
              "\n",
              "    .dataframe tbody tr th {\n",
              "        vertical-align: top;\n",
              "    }\n",
              "\n",
              "    .dataframe thead th {\n",
              "        text-align: right;\n",
              "    }\n",
              "</style>\n",
              "<table border=\"1\" class=\"dataframe\">\n",
              "  <thead>\n",
              "    <tr style=\"text-align: right;\">\n",
              "      <th></th>\n",
              "      <th>SKU</th>\n",
              "      <th>Produto</th>\n",
              "      <th>Quantidade Vendida</th>\n",
              "      <th>Primeiro Nome</th>\n",
              "      <th>Sobrenome</th>\n",
              "      <th>Data</th>\n",
              "      <th>Loja</th>\n",
              "      <th>Preco Unitario</th>\n",
              "      <th>Unnamed: 8</th>\n",
              "      <th>Preco com imposto</th>\n",
              "    </tr>\n",
              "  </thead>\n",
              "  <tbody>\n",
              "    <tr>\n",
              "      <th>0</th>\n",
              "      <td>HL4379</td>\n",
              "      <td>Televisão</td>\n",
              "      <td>5</td>\n",
              "      <td>Gabriel</td>\n",
              "      <td>Thoni</td>\n",
              "      <td>6/30/2018</td>\n",
              "      <td>Curitiba</td>\n",
              "      <td>2500</td>\n",
              "      <td>NaN</td>\n",
              "      <td>2750.0</td>\n",
              "    </tr>\n",
              "    <tr>\n",
              "      <th>1</th>\n",
              "      <td>HL4379</td>\n",
              "      <td>Televisão</td>\n",
              "      <td>3</td>\n",
              "      <td>Renan</td>\n",
              "      <td>Nascimento</td>\n",
              "      <td>9/14/2018</td>\n",
              "      <td>Recife</td>\n",
              "      <td>2500</td>\n",
              "      <td>NaN</td>\n",
              "      <td>2750.0</td>\n",
              "    </tr>\n",
              "    <tr>\n",
              "      <th>2</th>\n",
              "      <td>HL1148</td>\n",
              "      <td>Câmera</td>\n",
              "      <td>2</td>\n",
              "      <td>Camila</td>\n",
              "      <td>Sobral</td>\n",
              "      <td>10/21/2018</td>\n",
              "      <td>Fortaleza</td>\n",
              "      <td>2100</td>\n",
              "      <td>NaN</td>\n",
              "      <td>2310.0</td>\n",
              "    </tr>\n",
              "    <tr>\n",
              "      <th>3</th>\n",
              "      <td>HL1918</td>\n",
              "      <td>iPhone</td>\n",
              "      <td>3</td>\n",
              "      <td>Clara</td>\n",
              "      <td>Bruno</td>\n",
              "      <td>7/8/2018</td>\n",
              "      <td>Fortaleza</td>\n",
              "      <td>5300</td>\n",
              "      <td>NaN</td>\n",
              "      <td>5830.0</td>\n",
              "    </tr>\n",
              "    <tr>\n",
              "      <th>4</th>\n",
              "      <td>HL9962</td>\n",
              "      <td>Android</td>\n",
              "      <td>4</td>\n",
              "      <td>Eduardo</td>\n",
              "      <td>Pacheco</td>\n",
              "      <td>12/19/2018</td>\n",
              "      <td>Fortaleza</td>\n",
              "      <td>3400</td>\n",
              "      <td>NaN</td>\n",
              "      <td>3740.0</td>\n",
              "    </tr>\n",
              "    <tr>\n",
              "      <th>...</th>\n",
              "      <td>...</td>\n",
              "      <td>...</td>\n",
              "      <td>...</td>\n",
              "      <td>...</td>\n",
              "      <td>...</td>\n",
              "      <td>...</td>\n",
              "      <td>...</td>\n",
              "      <td>...</td>\n",
              "      <td>...</td>\n",
              "      <td>...</td>\n",
              "    </tr>\n",
              "    <tr>\n",
              "      <th>9994</th>\n",
              "      <td>HL4379</td>\n",
              "      <td>Televisão</td>\n",
              "      <td>2</td>\n",
              "      <td>Caio</td>\n",
              "      <td>Ferreira</td>\n",
              "      <td>5/18/2018</td>\n",
              "      <td>Fortaleza</td>\n",
              "      <td>2500</td>\n",
              "      <td>NaN</td>\n",
              "      <td>2750.0</td>\n",
              "    </tr>\n",
              "    <tr>\n",
              "      <th>9995</th>\n",
              "      <td>HL1148</td>\n",
              "      <td>Câmera</td>\n",
              "      <td>5</td>\n",
              "      <td>Kim</td>\n",
              "      <td>Ferreira</td>\n",
              "      <td>3/6/2018</td>\n",
              "      <td>Fortaleza</td>\n",
              "      <td>2100</td>\n",
              "      <td>NaN</td>\n",
              "      <td>2310.0</td>\n",
              "    </tr>\n",
              "    <tr>\n",
              "      <th>9996</th>\n",
              "      <td>HL4379</td>\n",
              "      <td>Televisão</td>\n",
              "      <td>5</td>\n",
              "      <td>Caio</td>\n",
              "      <td>Moraes</td>\n",
              "      <td>1/22/2018</td>\n",
              "      <td>São Paulo</td>\n",
              "      <td>2500</td>\n",
              "      <td>NaN</td>\n",
              "      <td>2750.0</td>\n",
              "    </tr>\n",
              "    <tr>\n",
              "      <th>9997</th>\n",
              "      <td>HL1918</td>\n",
              "      <td>iPhone</td>\n",
              "      <td>4</td>\n",
              "      <td>Norman</td>\n",
              "      <td>Jimbo</td>\n",
              "      <td>6/13/2018</td>\n",
              "      <td>Porto Alegre</td>\n",
              "      <td>5300</td>\n",
              "      <td>NaN</td>\n",
              "      <td>5830.0</td>\n",
              "    </tr>\n",
              "    <tr>\n",
              "      <th>9998</th>\n",
              "      <td>HL7348</td>\n",
              "      <td>SmartWatch</td>\n",
              "      <td>1</td>\n",
              "      <td>Vinícius</td>\n",
              "      <td>Antunes</td>\n",
              "      <td>12/10/2018</td>\n",
              "      <td>Curitiba</td>\n",
              "      <td>1400</td>\n",
              "      <td>NaN</td>\n",
              "      <td>1540.0</td>\n",
              "    </tr>\n",
              "  </tbody>\n",
              "</table>\n",
              "<p>9999 rows × 10 columns</p>\n",
              "</div>"
            ],
            "text/plain": [
              "         SKU     Produto  Quantidade Vendida Primeiro Nome   Sobrenome  \\\n",
              "0     HL4379   Televisão                   5       Gabriel       Thoni   \n",
              "1     HL4379   Televisão                   3         Renan  Nascimento   \n",
              "2     HL1148      Câmera                   2        Camila      Sobral   \n",
              "3     HL1918      iPhone                   3         Clara       Bruno   \n",
              "4     HL9962     Android                   4       Eduardo     Pacheco   \n",
              "...      ...         ...                 ...           ...         ...   \n",
              "9994  HL4379   Televisão                   2          Caio    Ferreira   \n",
              "9995  HL1148      Câmera                   5           Kim    Ferreira   \n",
              "9996  HL4379   Televisão                   5          Caio      Moraes   \n",
              "9997  HL1918      iPhone                   4        Norman       Jimbo   \n",
              "9998  HL7348  SmartWatch                   1      Vinícius     Antunes   \n",
              "\n",
              "            Data          Loja  Preco Unitario  Unnamed: 8  Preco com imposto  \n",
              "0      6/30/2018      Curitiba            2500         NaN             2750.0  \n",
              "1      9/14/2018        Recife            2500         NaN             2750.0  \n",
              "2     10/21/2018     Fortaleza            2100         NaN             2310.0  \n",
              "3       7/8/2018     Fortaleza            5300         NaN             5830.0  \n",
              "4     12/19/2018     Fortaleza            3400         NaN             3740.0  \n",
              "...          ...           ...             ...         ...                ...  \n",
              "9994   5/18/2018     Fortaleza            2500         NaN             2750.0  \n",
              "9995    3/6/2018     Fortaleza            2100         NaN             2310.0  \n",
              "9996   1/22/2018     São Paulo            2500         NaN             2750.0  \n",
              "9997   6/13/2018  Porto Alegre            5300         NaN             5830.0  \n",
              "9998  12/10/2018      Curitiba            1400         NaN             1540.0  \n",
              "\n",
              "[9999 rows x 10 columns]"
            ]
          },
          "metadata": {},
          "output_type": "display_data"
        }
      ],
      "source": [
        "tabela['Preco com imposto'] = list(map(adicionar_imposto, tabela['Preco Unitario']))\n",
        "display(tabela)"
      ]
    },
    {
      "cell_type": "code",
      "source": [
        "tabela.to_excel( 'Preco_Com_Imposto.xlsx' )"
      ],
      "metadata": {
        "id": "YKmRfeHGf8N0"
      },
      "id": "YKmRfeHGf8N0",
      "execution_count": null,
      "outputs": []
    }
  ],
  "metadata": {
    "kernelspec": {
      "display_name": "Python 3",
      "language": "python",
      "name": "python3"
    },
    "language_info": {
      "codemirror_mode": {
        "name": "ipython",
        "version": 3
      },
      "file_extension": ".py",
      "mimetype": "text/x-python",
      "name": "python",
      "nbconvert_exporter": "python",
      "pygments_lexer": "ipython3",
      "version": "3.8.8"
    },
    "colab": {
      "provenance": [],
      "include_colab_link": true
    }
  },
  "nbformat": 4,
  "nbformat_minor": 5
}