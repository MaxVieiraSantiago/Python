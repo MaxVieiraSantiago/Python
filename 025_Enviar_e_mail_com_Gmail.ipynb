{
  "cells": [
    {
      "cell_type": "markdown",
      "metadata": {
        "id": "view-in-github",
        "colab_type": "text"
      },
      "source": [
        "<a href=\"https://colab.research.google.com/github/MaxVieiraSantiago/Python/blob/master/025_Enviar_e_mail_com_Gmail.ipynb\" target=\"_parent\"><img src=\"https://colab.research.google.com/assets/colab-badge.svg\" alt=\"Open In Colab\"/></a>"
      ]
    },
    {
      "cell_type": "code",
      "execution_count": null,
      "metadata": {
        "id": "La5Q_xzfzILj"
      },
      "outputs": [],
      "source": [
        "import smtplib\n",
        "import email.message\n",
        "\n",
        "def enviar_email():  \n",
        "    corpo_email = \"\"\"\n",
        "    <p>Bom dia <b>Max Santiago</b>\n",
        "    <p>Espero que esteja feliz com a notívia que recebeu.</p>\n",
        "    <p>Parabéns !</p>\n",
        "    \"\"\"\n",
        "\n",
        "    msg = email.message.Message()\n",
        "    msg['Subject'] = \"Assunto\"\n",
        "    msg['From']    = 'maxvsantiago@gmail.com'\n",
        "    msg['To']      = 'maxvieirasantiago@gmail.com'\n",
        "\n",
        "    # Senha criada no Google ( Segurança - Precisa Ativar Validação em Duas Etapas )\n",
        "    password       = 'rqxylfshetbqvfuz' \n",
        "    \n",
        "    msg.add_header('Content-Type', 'text/html')\n",
        "    msg.set_payload(corpo_email )\n",
        "\n",
        "    s = smtplib.SMTP('smtp.gmail.com: 587')\n",
        "    s.starttls()\n",
        "    # Login Credentials for sending the mail\n",
        "    s.login(msg['From'], password)\n",
        "    s.sendmail(msg['From'], [msg['To']], msg.as_string().encode('utf-8'))\n",
        "    print('Email enviado')"
      ]
    },
    {
      "cell_type": "code",
      "execution_count": null,
      "metadata": {
        "id": "pjPx8ZoYzILp",
        "outputId": "5f556c91-3215-4446-97d1-f2c100063f85"
      },
      "outputs": [
        {
          "name": "stdout",
          "output_type": "stream",
          "text": [
            "Email enviado\n"
          ]
        }
      ],
      "source": [
        "enviar_email()"
      ]
    },
    {
      "cell_type": "code",
      "execution_count": null,
      "metadata": {
        "id": "a4ywgg2CzILq"
      },
      "outputs": [],
      "source": []
    }
  ],
  "metadata": {
    "kernelspec": {
      "display_name": "Python 3 (ipykernel)",
      "language": "python",
      "name": "python3"
    },
    "language_info": {
      "codemirror_mode": {
        "name": "ipython",
        "version": 3
      },
      "file_extension": ".py",
      "mimetype": "text/x-python",
      "name": "python",
      "nbconvert_exporter": "python",
      "pygments_lexer": "ipython3",
      "version": "3.9.12"
    },
    "colab": {
      "provenance": [],
      "include_colab_link": true
    }
  },
  "nbformat": 4,
  "nbformat_minor": 0
}